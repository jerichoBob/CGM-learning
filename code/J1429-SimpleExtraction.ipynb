{
 "cells": [
  {
   "cell_type": "markdown",
   "id": "7ac3b81a-15b7-4076-b792-417507c74aae",
   "metadata": {},
   "source": [
    "# J1429 Simple Extraction\n",
    "This python script will do a simple spectrum extraction of 6 points (location of points identified in QFitsView)"
   ]
  },
  {
   "cell_type": "code",
   "execution_count": 2,
   "id": "f0648e6c-00f3-4738-904d-60fa0dbed3fe",
   "metadata": {},
   "outputs": [],
   "source": [
    "x_cen = [30, 32, 34, 37, 35, 51];\n",
    "y_cen = [37, 38, 39, 39, 24, 32];\n",
    "# Point 1: (30,37)\n",
    "# Point 2: (32,38)\n",
    "# Point 3: (34,39)\n",
    "# Point 4: (37,39)\n",
    "# Point 5: (35,24)\n",
    "# Point 6: (51,32)\n",
    "labels = [\"1\",\"2\",\"3\",\"4\"];\n",
    "alignment = [ # [ha, va] :: ha={'left', 'center', 'right'} va={'bottom', 'baseline', 'center', 'center_baseline', 'top'}\n",
    "    ['center', 'top'],\n",
    "    ['center', 'top'],\n",
    "    ['center', 'top'],\n",
    "    ['center', 'top']\n",
    "]; "
   ]
  },
  {
   "cell_type": "code",
   "execution_count": null,
   "id": "eea84090-5965-4212-98f1-2bc361fbb77f",
   "metadata": {},
   "outputs": [],
   "source": []
  }
 ],
 "metadata": {
  "kernelspec": {
   "display_name": "Python 3 (ipykernel)",
   "language": "python",
   "name": "python3"
  },
  "language_info": {
   "codemirror_mode": {
    "name": "ipython",
    "version": 3
   },
   "file_extension": ".py",
   "mimetype": "text/x-python",
   "name": "python",
   "nbconvert_exporter": "python",
   "pygments_lexer": "ipython3",
   "version": "3.11.2"
  }
 },
 "nbformat": 4,
 "nbformat_minor": 5
}
