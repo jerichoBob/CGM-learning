{
 "cells": [
  {
   "cell_type": "raw",
   "id": "5795a201-e019-4e48-bc2f-79be570d0683",
   "metadata": {},
   "source": [
    "Methods\n",
    "\n",
    "Narrow-band extraction of Lyman alpha emission at 4 points along the arc of SGAS1429.\n",
    "   - source cutoffs - low:xxx hi:yyy\n",
    "   - continuum cutoffs - low:xxx hi:yyy"
   ]
  },
  {
   "cell_type": "code",
   "execution_count": 2,
   "id": "5eaa01d8-2fa0-42b9-904d-668e52294459",
   "metadata": {},
   "outputs": [
    {
     "name": "stdout",
     "output_type": "stream",
     "text": [
      "Data filename:  /Users/robertseaton/Desktop/Physics-NCState/---Research/FITS data/J1429/J1429_rb_flux.fits\n"
     ]
    }
   ],
   "source": [
    "import kcwitools.io as kio\n",
    "import kcwitools.utils as ku\n",
    "from astropy.io import fits, ascii\n",
    "import numpy as np\n",
    "import matplotlib.pyplot as plt\n",
    "# import matplotlib.gridspec as gridspec\n",
    "from matplotlib.gridspec import GridSpec\n",
    "from kcwitools.image import build_whitelight\n",
    "from matplotlib.widgets import Slider, Button, TextBox, RangeSlider, RectangleSelector\n",
    "# import ipywidgets as widgets\n",
    "\n",
    "base_path = \"/Users/robertseaton/Desktop/Physics-NCState/---Research/FITS data/J1429\"\n",
    "data_filename = base_path+\"/J1429_rb_flux.fits\";\n",
    "print(\"Data filename: \", data_filename);\n",
    "data_file = fits.open(\"/Users/robertseaton/Desktop/Physics-NCState/---Research/FITS data/J1429/J1429_rb_flux.fits\") # J1429_flux\n",
    "# var_file = fits.open(base_path+\"/J1429_var.fits\") # J1429_var"
   ]
  },
  {
   "cell_type": "code",
   "execution_count": null,
   "id": "2720a030-698d-4434-80d0-0fc6f3ac1ede",
   "metadata": {},
   "outputs": [],
   "source": []
  }
 ],
 "metadata": {
  "kernelspec": {
   "display_name": "Python 3 (ipykernel)",
   "language": "python",
   "name": "python3"
  },
  "language_info": {
   "codemirror_mode": {
    "name": "ipython",
    "version": 3
   },
   "file_extension": ".py",
   "mimetype": "text/x-python",
   "name": "python",
   "nbconvert_exporter": "python",
   "pygments_lexer": "ipython3",
   "version": "3.11.2"
  }
 },
 "nbformat": 4,
 "nbformat_minor": 5
}
