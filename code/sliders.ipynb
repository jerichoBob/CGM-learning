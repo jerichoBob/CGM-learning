{
 "cells": [
  {
   "cell_type": "code",
   "execution_count": 5,
   "id": "2df2ccef-1ffc-408e-92ff-e85325c29e48",
   "metadata": {},
   "outputs": [
    {
     "data": {
      "image/png": "[encoded data removed]",
      "text/plain": [
       "<Figure size 640x480 with 1 Axes>"
      ]
     },
     "metadata": {},
     "output_type": "display_data"
    }
   ],
   "source": [
    "import numpy as np\n",
    "\n",
    "import matplotlib.pyplot as plt\n",
    "# from matplotlib.gridspec import GridSpec\n",
    "from matplotlib.widgets import Slider, Button, TextBox, RangeSlider\n",
    "fig = plt.figure()\n",
    "wave = np.arange(2000)\n",
    "sslider_ax = fig.add_axes([0.20, 0.2, 0.60, 0.03])\n",
    "sslider = RangeSlider(sslider_ax, \"Source Range:\", wave.min(), wave.max())\n"
   ]
  },
  {
   "cell_type": "code",
   "execution_count": null,
   "id": "4b6d12a1-0681-45ce-93cb-929fc2e1816e",
   "metadata": {},
   "outputs": [],
   "source": []
  }
 ],
 "metadata": {
  "kernelspec": {
   "display_name": "Python 3 (ipykernel)",
   "language": "python",
   "name": "python3"
  },
  "language_info": {
   "codemirror_mode": {
    "name": "ipython",
    "version": 3
   },
   "file_extension": ".py",
   "mimetype": "text/x-python",
   "name": "python",
   "nbconvert_exporter": "python",
   "pygments_lexer": "ipython3",
   "version": "3.11.2"
  }
 },
 "nbformat": 4,
 "nbformat_minor": 5
}
