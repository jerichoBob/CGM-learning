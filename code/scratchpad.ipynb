{
 "cells": [
  {
   "cell_type": "code",
   "execution_count": 1,
   "id": "38e5587d-6b07-4395-a055-9c333cea5e6c",
   "metadata": {},
   "outputs": [],
   "source": [
    "import kcwitools.io as kio\n",
    "import kcwitools.utils as ku\n",
    "from astropy.io import fits, ascii\n",
    "import numpy as np\n",
    "import matplotlib.pyplot as plt\n",
    "from kcwitools.image import build_whitelight\n",
    "from matplotlib.widgets import Slider, Button, TextBox, RangeSlider"
   ]
  },
  {
   "cell_type": "code",
   "execution_count": null,
   "id": "f6ad8f49-2167-4b58-af55-115eb1fe31b1",
   "metadata": {},
   "outputs": [],
   "source": [
    "# just a little layout test\n",
    "def annotate_axes(fig):\n",
    "    for i, ax in enumerate(fig.axes):\n",
    "        ax.text(0.5, 0.5, \"ax%d\" % (i+1), va=\"center\", ha=\"center\")\n",
    "        ax.tick_params(labelbottom=False, labelleft=False)\n",
    "\n",
    "grid_size = (5,6)\n",
    "fig = plt.figure()\n",
    "ax1 = plt.subplot2grid(grid_size, (1, 0), colspan=2, rowspan=2)\n",
    "\n",
    "ax2 = plt.subplot2grid(grid_size, (0, 2), colspan=4)\n",
    "ax3 = plt.subplot2grid(grid_size, (1, 2), colspan=4)\n",
    "ax4 = plt.subplot2grid(grid_size, (2, 2), colspan=4)\n",
    "ax5 = plt.subplot2grid(grid_size, (3, 2), colspan=4)\n",
    "ax6 = plt.subplot2grid(grid_size, (4, 0), colspan=6)\n",
    "\n",
    "annotate_axes(fig)\n",
    "\n",
    "plt.show()"
   ]
  }
 ],
 "metadata": {
  "kernelspec": {
   "display_name": "Python 3 (ipykernel)",
   "language": "python",
   "name": "python3"
  },
  "language_info": {
   "codemirror_mode": {
    "name": "ipython",
    "version": 3
   },
   "file_extension": ".py",
   "mimetype": "text/x-python",
   "name": "python",
   "nbconvert_exporter": "python",
   "pygments_lexer": "ipython3",
   "version": "3.11.2"
  }
 },
 "nbformat": 4,
 "nbformat_minor": 5
}
