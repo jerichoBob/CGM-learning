{
 "cells": [
  {
   "cell_type": "raw",
   "id": "9aa7c461-b04d-4583-a8a7-344a1f5b4c84",
   "metadata": {
    "tags": []
   },
   "source": [
    "Methods\n",
    "\n",
    "Narrow-band extraction of Lyman alpha emission at 4 points along the arc of SGAS1429.\n",
    "   - source cutoffs - low:xxx hi:yyy\n",
    "   - continuum cutoffs - low:xxx hi:yyy"
   ]
  },
  {
   "cell_type": "code",
   "execution_count": 2,
   "id": "1f2d73af-c0b7-4b81-b2cf-93d1b210d15c",
   "metadata": {},
   "outputs": [],
   "source": [
    "import kcwitools.io as kio\n",
    "import kcwitools.utils as ku\n",
    "from astropy.io import fits, ascii\n",
    "import numpy as np\n",
    "import matplotlib.pyplot as plt\n",
    "# import matplotlib.gridspec as gridspec\n",
    "from matplotlib.gridspec import GridSpec\n",
    "from kcwitools.image import build_whitelight\n",
    "from matplotlib.widgets import Slider, Button, TextBox, RangeSlider, RectangleSelector\n",
    "# import ipywidgets as widgets\n",
    "\n",
    "base_path = \"/Users/robertseaton/Desktop/Physics-NCState/---Research/FITS data/J1429\"\n",
    "\n",
    "f1=fits.open(base_path+\"/SGAS1429+1202.fits\")\n",
    "flux_file = fits.open(base_path+\"/J1429_rb_flux.fits\") # J1429_flux\n",
    "# var_file = fits.open(base_path+\"/J1429_var.fits\") # J1429_var\n",
    "\n",
    "hdr=f1[0].header\n",
    "data=f1[0].data\n",
    "wave=ku.build_wave(hdr)\n",
    "wl_image=build_whitelight(hdr, data)"
   ]
  },
  {
   "cell_type": "code",
   "execution_count": 18,
   "id": "5c4d764e-926c-4709-9c65-6523fbbb2f1e",
   "metadata": {},
   "outputs": [
    {
     "name": "stdout",
     "output_type": "stream",
     "text": [
      "crval3:   3230.0\n",
      "crpix3:   -270.0\n",
      "cd3_3:    1.0\n",
      "wavedim:  2000\n",
      "wave =  3230.0  +  1.0  * (np.arange( 2000 ) + 1. -  -270.0 )\n"
     ]
    }
   ],
   "source": [
    "crval3 = hdr['CRVAL3']\n",
    "crpix3 = hdr['CRPIX3']\n",
    "cd3_3 = hdr['CD3_3']\n",
    "wavedim = hdr['NAXIS3']\n",
    "print(\"crval3:  \", crval3)\n",
    "print(\"crpix3:  \", crpix3)\n",
    "print(\"cd3_3:   \", cd3_3)\n",
    "print(\"wavedim: \", wavedim)\n",
    "print(\"wave = \",crval3,\" + \",cd3_3,\" * (np.arange(\",wavedim,\") + 1. - \",crpix3,\")\");"
   ]
  },
  {
   "cell_type": "code",
   "execution_count": 3,
   "id": "267f5745-ff60-45b2-b7fb-0eb75c62c59a",
   "metadata": {},
   "outputs": [
    {
     "data": {
      "text/plain": [
       "8704000"
      ]
     },
     "execution_count": 3,
     "metadata": {},
     "output_type": "execute_result"
    }
   ],
   "source": [
    "flux_file[0].data.size"
   ]
  },
  {
   "cell_type": "code",
   "execution_count": 4,
   "id": "d9eff1f0-0849-4737-8f91-bebcaae226df",
   "metadata": {},
   "outputs": [],
   "source": [
    "#%matplotlib widget\n",
    "# %matplotlib"
   ]
  },
  {
   "cell_type": "code",
   "execution_count": 5,
   "id": "851c6a67-1d05-4a1b-9b3e-2bb2818609c7",
   "metadata": {},
   "outputs": [],
   "source": [
    "# This just draws a box centered at (x,y) and sz from that center point in the n/e/s/w directions \n",
    "def plotbox(plt, x, y, labels, align, sz, c):\n",
    "    for i in range(len(x)):\n",
    "        plt.plot(\n",
    "            [x[i]-sz, x[i]-sz, x[i]+sz, x[i]+sz, x[i]-sz], \n",
    "            [y[i]-sz, y[i]+sz, y[i]+sz, y[i]-sz, y[i]-sz], \n",
    "            '-', color=c)\n",
    "        ha_ = align[i][0]\n",
    "        va_ = align[i][1]\n",
    "        plt.text(x[i], y[i]+1.5*sz, labels[i], color=c);\n"
   ]
  },
  {
   "cell_type": "markdown",
   "id": "79c62c6f-7bba-4916-a338-9509c5e022b1",
   "metadata": {},
   "source": [
    "Show SGAS1429+1202 with callout boxes"
   ]
  },
  {
   "cell_type": "code",
   "execution_count": 6,
   "id": "151a0436-78f8-4a9b-8c65-78983c9a001a",
   "metadata": {},
   "outputs": [],
   "source": [
    "# for j in range(wave.size):\n",
    "#     print(\"wave[\",j,\"]: \",wave[j]);"
   ]
  },
  {
   "cell_type": "code",
   "execution_count": 8,
   "id": "dd77d1d3",
   "metadata": {},
   "outputs": [
    {
     "name": "stdout",
     "output_type": "stream",
     "text": [
      "sslider:  <matplotlib.widgets.RangeSlider object at 0x186f35e90>\n"
     ]
    }
   ],
   "source": [
    "# Show the SGAS1429 image\n",
    "\n",
    "# %matplotlib\n",
    "\n",
    "x_cen = [20, 25, 39, 24];\n",
    "y_cen = [35, 36, 29, 21];\n",
    "labels = [\"1\",\"2\",\"3\",\"4\"];\n",
    "alignment = [ # [ha, va] :: ha={'left', 'center', 'right'} va={'bottom', 'baseline', 'center', 'center_baseline', 'top'}\n",
    "    ['center', 'top'],\n",
    "    ['center', 'top'],\n",
    "    ['center', 'top'],\n",
    "    ['center', 'top']\n",
    "]; \n",
    "\n",
    "fig = plt.figure()\n",
    "grid_size = (10,6)\n",
    "fig = plt.figure(figsize=(14,8))\n",
    "\n",
    "ax0 = plt.subplot2grid(grid_size, (1, 0), colspan=2, rowspan=4)\n",
    "ax = [];\n",
    "ax.append(plt.subplot2grid(grid_size, (0, 2), colspan=4, rowspan=2))\n",
    "ax.append(plt.subplot2grid(grid_size, (2, 2), colspan=4, rowspan=2))\n",
    "ax.append(plt.subplot2grid(grid_size, (4, 2), colspan=4, rowspan=2))\n",
    "ax.append(plt.subplot2grid(grid_size, (6, 2), colspan=4, rowspan=2))\n",
    "# need our last box at the bottom hold our 2 range sliders and 1 \"Extract\" button\n",
    "# ax_sliders = plt.subplot2grid(grid_size, (4, 2), colspan=4)\n",
    "\n",
    "\n",
    "# source wavelength range\n",
    "slower_val = 4599; # source lower bound (in angstroms)\n",
    "supper_val = 4702; # source lower bound (in angstroms)\n",
    "source_diff = supper_val - slower_val;\n",
    "\n",
    "# continuum wavelength range\n",
    "# Ahmed says that the continuum range needs to be roughly equal to the source range\n",
    "clower_val = 4115; # continuum lower bound (in angstroms)\n",
    "cupper_val = clower_val + source_diff; # continuum upper bound (in angstroms)\n",
    "\n",
    "# Create the RangeSlider\n",
    "sslider_ax = fig.add_axes([0.20, 0.2, 0.60, 0.03])\n",
    "sslider = RangeSlider(sslider_ax, \"Source Range:\", wave.min(), wave.max(), valinit=(slower_val, supper_val))\n",
    "# sslider = RangeSlider(sslider_ax, \"Source Range:\", 0, wave.size, valinit=(slower_val, supper_val))\n",
    "print(\"sslider: \", sslider)\n",
    "# Create the Continuum Slider\n",
    "cslider_ax = fig.add_axes([0.20, 0.15, 0.60, 0.03])\n",
    "cslider = RangeSlider(cslider_ax, \"Continuum Range:\", wave.min(), wave.max(), valinit=(clower_val, cupper_val))\n",
    "# cslider = RangeSlider(cslider_ax, \"Continuum Range:\", 0, wave.size, valinit=(clower_val, cupper_val))\n",
    "\n",
    "scolor = '#549c54';\n",
    "ccolor = '#9c5954'; \n",
    "\n",
    "sbounds=[]; cbounds=[];\n",
    "for j in range(4):\n",
    "    sbounds.append(ax[j].axvspan(sslider.val[0], sslider.val[1], facecolor=scolor));\n",
    "    cbounds.append(ax[j].axvspan(cslider.val[0], cslider.val[1], facecolor=ccolor));\n",
    "    \n",
    "\n",
    "\n",
    "ax[0].tick_params(top=False, bottom=False, labeltop=False, labelbottom=False)\n",
    "ax[1].tick_params(top=False, bottom=False, labeltop=False, labelbottom=False)\n",
    "ax[2].tick_params(top=False, bottom=False, labeltop=False, labelbottom=False)\n",
    "\n",
    "# Create the Vertical lines on the histogram\n",
    "def set_xvalues(polygon, x0, x1):\n",
    "    _ndarray = polygon.get_xy()\n",
    "    _ndarray[:, 0] = [x0, x0, x1, x1, x0]\n",
    "    polygon.set_xy(_ndarray)\n",
    "    \n",
    "# print(\"lower_limit: \", upper_limit_line, \" low: \", lower)\n",
    "def update_sourceRange(val):\n",
    "    print(\"source min: \", val[0], \"  max: \", val[1])\n",
    "    for j in range(4):\n",
    "        set_xvalues(sbounds[j], val[0], val[1]);\n",
    "\n",
    "    fig.canvas.draw_idle(); # Redraw the figure to ensure it updates\n",
    "\n",
    "def update_continuumRange(val):\n",
    "    print(\"continuum min: \", val[0], \"  max: \", val[1])\n",
    "    for j in range(4):\n",
    "        set_xvalues(cbounds[j], val[0],val[1]);\n",
    "\n",
    "    # Redraw the figure to ensure it updates\n",
    "    fig.canvas.draw_idle()\n",
    "    \n",
    "# ...................................................\n",
    "# Narrow-band extraction\n",
    "# For each point on the arc\n",
    "#   1. Calculate the average flux across the continuum range at that pixel location\n",
    "#     a. sum of all the flux across the continuum range (including the endpoints)\n",
    "#     b. average is sum / number of samples in sum\n",
    "#   2. At each wavelength of the source spectrum, calculate:\n",
    "#         adjustedSourceFlux[lambda] = SourceFlux[lambda] - ContinuumAverage\n",
    "#   3. Write adjustedSourceFlux data out to FITS file\n",
    "def extract_data(event):\n",
    "    print(\"Extract data!!!\");\n",
    "    j = 0\n",
    "    print(\"Source min: \", sslider.val[0], \" max: \", sslider.val[1]);\n",
    "    cmin = cslider.val[0];    cmax = cslider.val[1];\n",
    "    print(\"Continuum min: \", cslider.val[0], \" max: \", cslider.val[1]);\n",
    "    cflux = [0]*4; cflux_N = [0]*4; cAvg = [0]*4;\n",
    "    for j in range(4):\n",
    "        cflux[j] = 0.0; cflux_N[j] = 0;\n",
    "        print(\"-----\")\n",
    "        # for the continuum\n",
    "        for i in range(0, wave.size):\n",
    "            wavelength = wave[i];\n",
    "            if wavelength>= cmin and wavelength<=cmax:\n",
    "                cflux[j] += data[i][y_cen[j]][x_cen[j]]; \n",
    "                cflux_N[j] += 1;\n",
    "                # print(\"i: \", i, \n",
    "                #       \"  wavelength: \", wavelength, \n",
    "                #       \"  flux: \", data[i][y_cen[j]][x_cen[j]], \n",
    "                #       \"  sum: \", cflux[j],\n",
    "                #       \"  N: \", cflux_N[j]\n",
    "                #  )\n",
    "            \n",
    "        cAvg[j] = cflux[j] / cflux_N[j];\n",
    "        print(\"point \", j, \" : \", cAvg[j],\" = \",cflux[j],\" / \", cflux_N[j]);    \n",
    "        \n",
    "    # now adjust the flux measurements inside the source range by the continuum average\n",
    "    smin = sslider.val[0];    smax = sslider.val[1];\n",
    "    adjusted_flux = [0.0]*4;\n",
    "    for j in range(4):\n",
    "        adjusted_flux[j] = 0.0; \n",
    "        print(\"-----\")\n",
    "        for i in range(0, wave.size):\n",
    "            wavelength = wave[i];\n",
    "            if wavelength>= smin and wavelength<=smax:\n",
    "                flux_val = data[i][y_cen[j]][x_cen[j]]\n",
    "                adjusted_flux[j] = flux_val - cAvg[j]; # this assumes cAvg < data; ??? is this always going to be valid???\n",
    "\n",
    "                print(\"i: \", i, \n",
    "                      \"  wavelength: \", wavelength, \n",
    "                      \"  flux: \", data[i][y_cen[j]][x_cen[j]], \n",
    "                      \"  adjusted_flux: \", adjusted_flux[j]\n",
    "                 )\n",
    "            \n",
    "\n",
    "\n",
    "axnext = fig.add_axes([0.81, 0.05, 0.10, 0.03]) # left, bottom, width, height\n",
    "bnext = Button(axnext, 'Extract')\n",
    "bnext.on_clicked(extract_data)\n",
    "sslider.on_changed(update_sourceRange)\n",
    "cslider.on_changed(update_continuumRange)\n",
    "\n",
    "\n",
    "ax0.imshow(wl_image,origin=\"lower\",interpolation=\"nearest\",cmap=\"gnuplot\",vmin=0)\n",
    "plotbox(ax0, x_cen, y_cen, labels, alignment, 2, 'c')\n",
    "\n",
    "colors = ['r','g','b','y'];\n",
    "j = 0\n",
    "for j in range(4):\n",
    "    flux = []\n",
    "    for i in range(wave.size):\n",
    "        # print(\"i: \",i)\n",
    "        # print(\"wavelength: \",wave[i], \"flux: \",data[i][y][x])\n",
    "        flux.append(data[i][y_cen[j]][x_cen[j]])\n",
    "    ax[j].plot(wave, flux, '-', color='black')\n",
    "\n",
    "# def onselect(eclick, erelease):\n",
    "#     print(eclick.xdata, eclick.ydata)\n",
    "#     print(erelease.xdata, erelease.ydata)\n",
    "# props = dict(facecolor='blue', alpha=0.5)\n",
    "# rect = RectangleSelector(ax[0], onselect, interactive=True, props=props)\n",
    "# # fig.show()\n",
    "# rect.add_state('square')\n",
    "\n",
    "plt.subplots_adjust(left=0, bottom=0.16, right=0.979, top=0.94, wspace=0.2, hspace=0.021)\n",
    "plt.show()\n",
    "    "
   ]
  },
  {
   "cell_type": "code",
   "execution_count": 9,
   "id": "6b6f191d-dc32-4635-ae1d-1cd2665ecb43",
   "metadata": {},
   "outputs": [
    {
     "data": {
      "text/plain": [
       "array([3503.00360982, 3504.00412372, 3505.00463764, ..., 5501.05555568,\n",
       "       5502.05608992, 5503.05662417])"
      ]
     },
     "execution_count": 9,
     "metadata": {},
     "output_type": "execute_result"
    }
   ],
   "source": [
    "ku.airtovac(wave)"
   ]
  },
  {
   "cell_type": "code",
   "execution_count": 10,
   "id": "a822c744-29c5-486a-b134-6b6ad8439e29",
   "metadata": {},
   "outputs": [
    {
     "data": {
      "text/plain": [
       "array([3502.00167624, 3503.00193315, 3504.00219007, ..., 5499.52757384,\n",
       "       5500.52784093, 5501.52810801])"
      ]
     },
     "execution_count": 10,
     "metadata": {},
     "output_type": "execute_result"
    }
   ],
   "source": [
    "wave"
   ]
  },
  {
   "cell_type": "code",
   "execution_count": null,
   "id": "5641653a-4e93-440f-a38e-4b0f17c681de",
   "metadata": {},
   "outputs": [],
   "source": []
  }
 ],
 "metadata": {
  "kernelspec": {
   "display_name": "Python 3 (ipykernel)",
   "language": "python",
   "name": "python3"
  },
  "language_info": {
   "codemirror_mode": {
    "name": "ipython",
    "version": 3
   },
   "file_extension": ".py",
   "mimetype": "text/x-python",
   "name": "python",
   "nbconvert_exporter": "python",
   "pygments_lexer": "ipython3",
   "version": "3.11.2"
  }
 },
 "nbformat": 4,
 "nbformat_minor": 5
}
