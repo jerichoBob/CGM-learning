{
 "cells": [
  {
   "cell_type": "code",
   "execution_count": null,
   "id": "c54cddbd-ad1c-4913-b785-d97e0372fb82",
   "metadata": {},
   "outputs": [],
   "source": [
    "!cd /users/robertseaton/School/github_repos/kcwitools/; python setup.py install"
   ]
  }
 ],
 "metadata": {
  "kernelspec": {
   "display_name": "Python 3 (ipykernel)",
   "language": "python",
   "name": "python3"
  },
  "language_info": {
   "codemirror_mode": {
    "name": "ipython",
    "version": 3
   },
   "file_extension": ".py",
   "mimetype": "text/x-python",
   "name": "python",
   "nbconvert_exporter": "python",
   "pygments_lexer": "ipython3",
   "version": "3.11.0"
  }
 },
 "nbformat": 4,
 "nbformat_minor": 5
}
