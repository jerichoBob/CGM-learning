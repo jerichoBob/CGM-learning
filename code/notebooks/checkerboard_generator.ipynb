{
 "cells": [
  {
   "cell_type": "code",
   "execution_count": 4,
   "metadata": {},
   "outputs": [],
   "source": [
    "import numpy as np\n",
    "from astropy.io import fits\n",
    "\n",
    "# Define the dimensions of the cube\n",
    "x_dim, y_dim, z_dim = 50, 50, 50\n",
    "\n",
    "# Create an empty 3D numpy array\n",
    "cube = np.zeros((z_dim, x_dim, y_dim))\n",
    "\n",
    "# Fill in the checkerboard pattern\n",
    "for i in range(z_dim):\n",
    "    for j in range(x_dim):\n",
    "        for k in range(y_dim):\n",
    "            if (i + j + k) % 2 == 0:  # This creates the checkerboard pattern\n",
    "                cube[i, j, k] = 1\n",
    "\n",
    "# Create a PrimaryHDU object from the data\n",
    "hdu = fits.PrimaryHDU(cube)\n",
    "\n",
    "# Write the HDU to a new fits file\n",
    "hdu.writeto('checkerboard_data_cube.fits', overwrite=True)\n"
   ]
  },
  {
   "cell_type": "code",
   "execution_count": null,
   "metadata": {},
   "outputs": [],
   "source": []
  }
 ],
 "metadata": {
  "kernelspec": {
   "display_name": "astroresearch",
   "language": "python",
   "name": "python3"
  },
  "language_info": {
   "codemirror_mode": {
    "name": "ipython",
    "version": 3
   },
   "file_extension": ".py",
   "mimetype": "text/x-python",
   "name": "python",
   "nbconvert_exporter": "python",
   "pygments_lexer": "ipython3",
   "version": "3.9.5"
  },
  "orig_nbformat": 4
 },
 "nbformat": 4,
 "nbformat_minor": 2
}
