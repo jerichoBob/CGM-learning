{
 "cells": [
  {
   "cell_type": "code",
   "execution_count": 1,
   "metadata": {},
   "outputs": [],
   "source": [
    "import os\n",
    "import numpy as np\n",
    "import matplotlib.pyplot as plt\n",
    "# %matplotlib inline\n",
    "import matplotlib.gridspec as gridspec\n",
    "\n",
    "from astropy.io import fits\n",
    "from astropy.wcs import WCS\n",
    "from kcwitools.io import open_kcwi_cube\n",
    "import kcwitools.extract_weighted_spectrum as ews\n",
    "from kcwitools.utils import build_wave\n",
    "# from musetools.utils import transform_pixels\n",
    "def transform_pixels(x1, y1, wcs1, wcs2):\n",
    "    r, d = wcs1.pixel_to_world_values(x1, y1)\n",
    "    x2, y2 = wcs2.world_to_pixel_values(r, d)\n",
    "    return x2, y2\n",
    "def find_fits(basedir, endswith):\n",
    "    return (os.path.join(root, file)\n",
    "        for root, dirs, files in os.walk(basedir)\n",
    "            for file in files if root == basedir and file.lower().endswith(endswith))\n",
    "def find_files_ending_with(directory, endswith):\n",
    "    # List all files in the specified directory\n",
    "    files = os.listdir(directory)\n",
    "    # Filter the list to only include files that end with the specified suffix\n",
    "    matching_files = [file for file in files if file.endswith(endswith)]\n",
    "    return matching_files\n",
    "\n",
    "basedir = \"/Users/robertseaton/rwseaton@ncsu.edu - Google Drive/My Drive/Astro Research/KCWI_1429_Data/Fluxed/\"\n"
   ]
  },
  {
   "cell_type": "code",
   "execution_count": 6,
   "metadata": {},
   "outputs": [],
   "source": [
    "def read_and_prep_flux_var_data(flux_file, var_file, wl_low, wl_high):\n",
    "    \"\"\" This method reads the flux and var cubes for a specific observation, and cleans them up before returning \"\"\"\n",
    "    hdr_f, flux = open_kcwi_cube(flux_file)\n",
    "    # print(repr(hdr_f))\n",
    "    _, var = open_kcwi_cube(var_file)\n",
    "    wave = build_wave(hdr_f)\n",
    "\n",
    "    # hdr_f[\"CD1_1\"] = hdr_f[\"CDELT1\"]\n",
    "    # hdr_f[\"CD2_2\"] = hdr_f[\"CDELT2\"]\n",
    "    # hdr_f[\"CD3_3\"] = hdr_f[\"CDELT3\"]\n",
    "\n",
    "    q_n = np.isnan(flux)\n",
    "    q_neg = np.where(flux < 0.0)\n",
    "    flux[q_n] = 0.0\n",
    "    #flux[q_neg] = 0.0\n",
    "\n",
    "    q_v = np.isnan(var)\n",
    "    q_vneg = np.where(var < 0.0)\n",
    "    var[q_v] = 0.0\n",
    "    #var[q_vneg] = 0.0\n",
    "\n",
    "    wl = np.sum(flux, axis=0)\n",
    "    wcs_f = WCS(hdr_f).celestial\n",
    "\n",
    "    return flux, var, wave, wl, wcs_f, hdr_f\n"
   ]
  },
  {
   "cell_type": "code",
   "execution_count": 7,
   "metadata": {},
   "outputs": [],
   "source": [
    "def label_axes(fig):\n",
    "    for i, ax in enumerate(fig.axes):\n",
    "        ax.text(0.5, 0.5, \"ax%d\" % (i+1), va=\"center\", ha=\"center\")\n",
    "        ax.tick_params(labelbottom=False, labelleft=False)"
   ]
  },
  {
   "cell_type": "code",
   "execution_count": 8,
   "metadata": {},
   "outputs": [],
   "source": [
    "def create_images_layout(plt, count=6, shape=None, title=\"GridSpec Layout\"):\n",
    "    \"\"\"returns an arround of {count} axes for images to be placed within\"\"\"\n",
    "    fig = plt.figure(figsize=(12,10), layout=\"constrained\")\n",
    "    # fig.suptitle(title)\n",
    "    axs_image = []\n",
    "    gs = gridspec.GridSpec(10, count, figure=fig)\n",
    "    for i in range(count):\n",
    "        print(\"index:{i}\")\n",
    "        axs_image.append(fig.add_subplot(gs[1:10, i]))\n",
    "        label_axes(fig)\n",
    "\n",
    "    return axs_image"
   ]
  },
  {
   "cell_type": "code",
   "execution_count": 15,
   "metadata": {},
   "outputs": [
    {
     "name": "stdout",
     "output_type": "stream",
     "text": [
      "We have 7 files to process\n",
      "data[0]: /Users/robertseaton/rwseaton@ncsu.edu - Google Drive/My Drive/Astro Research/KCWI_1429_Data/Fluxed/KB.20180708.23055_icubes_corrected_flux.fits:/Users/robertseaton/rwseaton@ncsu.edu - Google Drive/My Drive/Astro Research/KCWI_1429_Data/Fluxed/KB.20180708.23055_icubes_corrected_var.fits\n",
      "data[1]: /Users/robertseaton/rwseaton@ncsu.edu - Google Drive/My Drive/Astro Research/KCWI_1429_Data/Fluxed/KB.20180708.24349_icubes_corrected_flux.fits:/Users/robertseaton/rwseaton@ncsu.edu - Google Drive/My Drive/Astro Research/KCWI_1429_Data/Fluxed/KB.20180708.24349_icubes_corrected_var.fits\n",
      "data[2]: /Users/robertseaton/rwseaton@ncsu.edu - Google Drive/My Drive/Astro Research/KCWI_1429_Data/Fluxed/KB.20190601.32100_icubes_corrected_flux.fits:/Users/robertseaton/rwseaton@ncsu.edu - Google Drive/My Drive/Astro Research/KCWI_1429_Data/Fluxed/KB.20190601.32100_icubes_corrected_var.fits\n",
      "data[3]: /Users/robertseaton/rwseaton@ncsu.edu - Google Drive/My Drive/Astro Research/KCWI_1429_Data/Fluxed/KB.20190601.33358_icubes_corrected_flux.fits:/Users/robertseaton/rwseaton@ncsu.edu - Google Drive/My Drive/Astro Research/KCWI_1429_Data/Fluxed/KB.20190601.33358_icubes_corrected_var.fits\n",
      "data[4]: /Users/robertseaton/rwseaton@ncsu.edu - Google Drive/My Drive/Astro Research/KCWI_1429_Data/Fluxed/KB.20200520.37578_icubes_corrected_flux.fits:/Users/robertseaton/rwseaton@ncsu.edu - Google Drive/My Drive/Astro Research/KCWI_1429_Data/Fluxed/KB.20200520.37578_icubes_corrected_var.fits\n",
      "data[5]: /Users/robertseaton/rwseaton@ncsu.edu - Google Drive/My Drive/Astro Research/KCWI_1429_Data/Fluxed/KB.20200520.38847_icubes_corrected_flux.fits:/Users/robertseaton/rwseaton@ncsu.edu - Google Drive/My Drive/Astro Research/KCWI_1429_Data/Fluxed/KB.20200520.38847_icubes_corrected_var.fits\n",
      "data[6]: /Users/robertseaton/rwseaton@ncsu.edu - Google Drive/My Drive/Astro Research/KCWI_1429_Data/Fluxed/KB.20200520.40119_icubes_corrected_flux.fits:/Users/robertseaton/rwseaton@ncsu.edu - Google Drive/My Drive/Astro Research/KCWI_1429_Data/Fluxed/KB.20200520.40119_icubes_corrected_var.fits\n"
     ]
    }
   ],
   "source": [
    "flux_files = list(sorted(find_fits(basedir,\"_corrected_flux.fits\")))\n",
    "var_files = list(sorted(find_fits(basedir,\"_corrected_var.fits\")))\n",
    "# zipped = zip(flux_files, var_files)\n",
    "data = list(zip(flux_files, var_files))\n",
    "print(f\"We have {len(data)} files to process\")\n",
    "for ii, datum in enumerate(data):\n",
    "    print(f\"data[{ii}]: {datum[0]}:{datum[1]}\")\n"
   ]
  },
  {
   "cell_type": "code",
   "execution_count": 27,
   "metadata": {},
   "outputs": [
    {
     "name": "stdout",
     "output_type": "stream",
     "text": [
      "<enumerate object at 0x137abb780>\n",
      "We have 0 files to process\n"
     ]
    }
   ],
   "source": [
    "def find_fits(basedir, endswith):\n",
    "    return (\n",
    "        os.path.join(root, file)\n",
    "        for root, dirs, files in os.walk(basedir)\n",
    "        for file in files if root == basedir and file.lower().endswith(endswith)\n",
    "        )\n",
    "def main_ish():\n",
    "    basedir = \"/Users/robertseaton/rwseaton@ncsu.edu\\ -\\ Google\\ Drive/My\\ Drive/Astro\\ Research/KCWI_1429_Data/Fluxed\"\n",
    "    flux_files = list(sorted(find_fits(basedir,\"_corrected_flux.fits\")))\n",
    "    var_files = list(sorted(find_fits(basedir,\"_corrected_var.fits\")))\n",
    "    zipped = zip(flux_files, var_files)\n",
    "    print(repr(enumerate(zipped)))\n",
    "\n",
    "    wl_low = 3500\n",
    "    wl_high = 5500 \n",
    "    spectrum_sum = None # this needs to have the same the specturm shape\n",
    "    variance_sum = None # this needs to have the same the specturm shape\n",
    "    axs = []\n",
    "    data = list(zip(flux_files, var_files))\n",
    "    print(f\"We have {len(data)} files to process\")\n",
    "    return\n",
    "    axs_image = create_images_layout(plt, count=6, shape=None, title=\"GridSpec Layout\")\n",
    "    for ii, datum in enumerate(data):\n",
    "        print(f\"data[{ii}]: {datum[0]}\")\n",
    "    # for flux_file, var_file in zipped:\n",
    "        print(f\"flux_file: {datum[0]}\")\n",
    "        print(f\"var_file: {datum[1]}\")\n",
    "        flux, var, wave, wl_image, wcs_f, hdr_f = read_and_prep_flux_var_data(datum[0], datum[1], wl_low, wl_high)\n",
    "        print(\"- \"*20)\n",
    "        # set up the layout\n",
    "        # ax_image, ax_spec, ax_variance = create_image_flux_var_layout(plt, title=\"GridSpec Layout\")\n",
    "        # axs.append((ax_image, ax_spec, ax_variance))\n",
    "        point=[17,54]\n",
    "        # display the WL image\n",
    "        display_wl_image(axs_image[ii], wl_image, point, hdr_f)\n",
    "\n",
    "        \n",
    "        # display the point or points on the WL image\n",
    "        # extract the weighted spectrum and variance\n",
    "        # display the spectrum and variance\n",
    "        # add spectrum / variance to \n",
    "    plt.show()\n",
    "main_ish()\n"
   ]
  },
  {
   "cell_type": "code",
   "execution_count": null,
   "metadata": {},
   "outputs": [],
   "source": []
  }
 ],
 "metadata": {
  "kernelspec": {
   "display_name": "rb_base",
   "language": "python",
   "name": "python3"
  },
  "language_info": {
   "codemirror_mode": {
    "name": "ipython",
    "version": 3
   },
   "file_extension": ".py",
   "mimetype": "text/x-python",
   "name": "python",
   "nbconvert_exporter": "python",
   "pygments_lexer": "ipython3",
   "version": "3.9.18"
  },
  "orig_nbformat": 4
 },
 "nbformat": 4,
 "nbformat_minor": 2
}
