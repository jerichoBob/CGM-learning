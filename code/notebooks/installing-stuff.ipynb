{
 "cells": [
  {
   "cell_type": "raw",
   "id": "092ef53c-12dd-484d-8adc-88452005a0dd",
   "metadata": {},
   "source": [
    "do the following inside the appropriate conda environment \n",
    "!cd /users/robertseaton/School/github_repos/kcwitools/; python setup.py install\n",
    "conda install -c conda-forge jupyterlab\n",
    "conda install -c conda-forge matplotlib\n",
    "conda install -c conda-forge erfa\n",
    "conda install -c conda-forge astropy\n",
    "conda install -c conda-forge scipy\n",
    "conda install -c conda-forge ipympl"
   ]
  }
 ],
 "metadata": {
  "kernelspec": {
   "display_name": "Python 3 (ipykernel)",
   "language": "python",
   "name": "python3"
  },
  "language_info": {
   "codemirror_mode": {
    "name": "ipython",
    "version": 3
   },
   "file_extension": ".py",
   "mimetype": "text/x-python",
   "name": "python",
   "nbconvert_exporter": "python",
   "pygments_lexer": "ipython3",
   "version": "3.11.2"
  }
 },
 "nbformat": 4,
 "nbformat_minor": 5
}
