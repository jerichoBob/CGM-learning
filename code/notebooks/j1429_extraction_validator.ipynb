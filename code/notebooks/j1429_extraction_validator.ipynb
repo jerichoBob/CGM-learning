{
 "cells": [
  {
   "cell_type": "code",
   "execution_count": 1,
   "metadata": {},
   "outputs": [],
   "source": [
    "# this code uses the checkerboard_data_cube.fits to verify that the extraction tool is working properly\n",
    "# code is \"borrowed\" from j1429_extraction_tool_v2.py"
   ]
  },
  {
   "cell_type": "code",
   "execution_count": 2,
   "metadata": {},
   "outputs": [],
   "source": [
    "from kcwitools import io as kcwi_io\n",
    "from kcwitools import utils as kcwi_u\n",
    "from kcwitools import spec as kcwi_s\n",
    "from kcwitools import plot as kp\n",
    "from kcwitools import image as im\n",
    "from kcwitools import extract_weighted_spectrum as ke\n",
    "\n",
    "import numpy as np\n",
    "import matplotlib.pyplot as plt\n",
    "\n",
    "from copy import deepcopy\n",
    "import warnings"
   ]
  },
  {
   "cell_type": "code",
   "execution_count": 3,
   "metadata": {},
   "outputs": [],
   "source": [
    "# our new sightlines identified using QFitsView using square 3x3 aperture\n",
    "# SNR was waaay too low for a 3x3 (mostly less than 1) when treating 3700-5500 as the continuum\n",
    "sz = 3  # length of one side of the square box\n",
    "points = [\n",
    "    (50,50), #0\n",
    "]\n",
    "\n",
    "x_coords, y_coords = zip(*points)\n",
    "# convert to lists\n",
    "x_coords = list(x_coords)\n",
    "y_coords = list(y_coords)"
   ]
  },
  {
   "cell_type": "code",
   "execution_count": 4,
   "metadata": {},
   "outputs": [],
   "source": [
    "flux_filename = \"./j1429\"\n",
    "# \"./checkerboard_data_cube.fits\"\n",
    "var_filename = \"./checkerboard_data_cube.fits\"\n",
    "\n",
    "# Load flux and variance data cubes\n",
    "hdr, flux = kcwi_io.open_kcwi_cube(flux_filename)\n",
    "_, var = kcwi_io.open_kcwi_cube(var_filename)\n",
    "\n",
    "crval3 = hdu_hdr['CRVAL3']\n",
    "crpix3 = hdu_hdr['CRPIX3']\n",
    "# cd3_3 = hdu_hdr['CD3_3']"
   ]
  },
  {
   "cell_type": "code",
   "execution_count": 7,
   "metadata": {},
   "outputs": [
    {
     "ename": "KeyError",
     "evalue": "\"Keyword 'CRVAL3' not found.\"",
     "output_type": "error",
     "traceback": [
      "\u001b[0;31m---------------------------------------------------------------------------\u001b[0m",
      "\u001b[0;31mKeyError\u001b[0m                                  Traceback (most recent call last)",
      "Cell \u001b[0;32mIn[7], line 6\u001b[0m\n\u001b[1;32m      3\u001b[0m flux[np\u001b[39m.\u001b[39misnan(flux)]\u001b[39m=\u001b[39m\u001b[39m0.0000\u001b[39m\n\u001b[1;32m      4\u001b[0m \u001b[39m# header =kp.tweak_header(deepcopy(hdr)) # what's the point here?\u001b[39;00m\n\u001b[0;32m----> 6\u001b[0m wave \u001b[39m=\u001b[39m kcwi_u\u001b[39m.\u001b[39;49mbuild_wave(hdr) \u001b[39m# should I be using header instead of hdr??\u001b[39;00m\n\u001b[1;32m      8\u001b[0m \u001b[39m# First create a white light image to plot\u001b[39;00m\n\u001b[1;32m      9\u001b[0m wl_center \u001b[39m=\u001b[39m \u001b[39m4686\u001b[39m\n",
      "File \u001b[0;32m~/anaconda3/envs/astroresearch/lib/python3.9/site-packages/kcwitools-0.1.dev0-py3.9.egg/kcwitools/utils.py:33\u001b[0m, in \u001b[0;36mbuild_wave\u001b[0;34m(hdu_hdr, air2vac)\u001b[0m\n\u001b[1;32m     22\u001b[0m \u001b[39mdef\u001b[39;00m \u001b[39mbuild_wave\u001b[39m(hdu_hdr, air2vac\u001b[39m=\u001b[39m\u001b[39mTrue\u001b[39;00m):\n\u001b[1;32m     23\u001b[0m \u001b[39m    \u001b[39m\u001b[39m\"\"\"\u001b[39;00m\n\u001b[1;32m     24\u001b[0m \u001b[39m    build_wave takes elements from the header provided and constructs the sequence of wavelengths that the header refers to\u001b[39;00m\n\u001b[1;32m     25\u001b[0m \n\u001b[0;32m   (...)\u001b[0m\n\u001b[1;32m     31\u001b[0m \n\u001b[1;32m     32\u001b[0m \u001b[39m    \"\"\"\u001b[39;00m\n\u001b[0;32m---> 33\u001b[0m     crval3 \u001b[39m=\u001b[39m hdu_hdr[\u001b[39m'\u001b[39;49m\u001b[39mCRVAL3\u001b[39;49m\u001b[39m'\u001b[39;49m]\n\u001b[1;32m     34\u001b[0m     crpix3 \u001b[39m=\u001b[39m hdu_hdr[\u001b[39m'\u001b[39m\u001b[39mCRPIX3\u001b[39m\u001b[39m'\u001b[39m]\n\u001b[1;32m     35\u001b[0m     \u001b[39m# cd3_3 = hdu_hdr['CD3_3']\u001b[39;00m\n",
      "File \u001b[0;32m~/anaconda3/envs/astroresearch/lib/python3.9/site-packages/astropy/io/fits/header.py:157\u001b[0m, in \u001b[0;36mHeader.__getitem__\u001b[0;34m(self, key)\u001b[0m\n\u001b[1;32m    154\u001b[0m \u001b[39melse\u001b[39;00m:\n\u001b[1;32m    155\u001b[0m     keyword \u001b[39m=\u001b[39m key\n\u001b[0;32m--> 157\u001b[0m card \u001b[39m=\u001b[39m \u001b[39mself\u001b[39m\u001b[39m.\u001b[39m_cards[\u001b[39mself\u001b[39;49m\u001b[39m.\u001b[39;49m_cardindex(key)]\n\u001b[1;32m    159\u001b[0m \u001b[39mif\u001b[39;00m card\u001b[39m.\u001b[39mfield_specifier \u001b[39mis\u001b[39;00m \u001b[39mnot\u001b[39;00m \u001b[39mNone\u001b[39;00m \u001b[39mand\u001b[39;00m keyword \u001b[39m==\u001b[39m card\u001b[39m.\u001b[39mrawkeyword:\n\u001b[1;32m    160\u001b[0m     \u001b[39m# This is RVKC; if only the top-level keyword was specified return\u001b[39;00m\n\u001b[1;32m    161\u001b[0m     \u001b[39m# the raw value, not the parsed out float value\u001b[39;00m\n\u001b[1;32m    162\u001b[0m     \u001b[39mreturn\u001b[39;00m card\u001b[39m.\u001b[39mrawvalue\n",
      "File \u001b[0;32m~/anaconda3/envs/astroresearch/lib/python3.9/site-packages/astropy/io/fits/header.py:1754\u001b[0m, in \u001b[0;36mHeader._cardindex\u001b[0;34m(self, key)\u001b[0m\n\u001b[1;32m   1751\u001b[0m         indices \u001b[39m=\u001b[39m \u001b[39mself\u001b[39m\u001b[39m.\u001b[39m_rvkc_indices\u001b[39m.\u001b[39mget(keyword, \u001b[39mNone\u001b[39;00m)\n\u001b[1;32m   1753\u001b[0m \u001b[39mif\u001b[39;00m \u001b[39mnot\u001b[39;00m indices:\n\u001b[0;32m-> 1754\u001b[0m     \u001b[39mraise\u001b[39;00m \u001b[39mKeyError\u001b[39;00m(\u001b[39mf\u001b[39m\u001b[39m\"\u001b[39m\u001b[39mKeyword \u001b[39m\u001b[39m{\u001b[39;00mkeyword\u001b[39m!r}\u001b[39;00m\u001b[39m not found.\u001b[39m\u001b[39m\"\u001b[39m)\n\u001b[1;32m   1756\u001b[0m \u001b[39mtry\u001b[39;00m:\n\u001b[1;32m   1757\u001b[0m     \u001b[39mreturn\u001b[39;00m indices[n]\n",
      "\u001b[0;31mKeyError\u001b[0m: \"Keyword 'CRVAL3' not found.\""
     ]
    }
   ],
   "source": [
    "# first do a little data cleanup\n",
    "var[np.isnan(flux)]=1.\n",
    "flux[np.isnan(flux)]=0.0000\n",
    "# header =kp.tweak_header(deepcopy(hdr)) # what's the point here?\n",
    "\n",
    "wave = kcwi_u.build_wave(hdr) # should I be using header instead of hdr??\n",
    "\n",
    "# First create a white light image to plot\n",
    "wl_center = 4686\n",
    "wl_halfwidth  = 10\n",
    "wl_image= im.build_whitelight(hdr, flux, minwave=wl_center - wl_halfwidth, maxwave=wl_center + wl_halfwidth)"
   ]
  },
  {
   "cell_type": "code",
   "execution_count": null,
   "metadata": {},
   "outputs": [],
   "source": []
  }
 ],
 "metadata": {
  "kernelspec": {
   "display_name": "astroresearch",
   "language": "python",
   "name": "python3"
  },
  "language_info": {
   "codemirror_mode": {
    "name": "ipython",
    "version": 3
   },
   "file_extension": ".py",
   "mimetype": "text/x-python",
   "name": "python",
   "nbconvert_exporter": "python",
   "pygments_lexer": "ipython3",
   "version": "3.9.5"
  },
  "orig_nbformat": 4
 },
 "nbformat": 4,
 "nbformat_minor": 2
}
