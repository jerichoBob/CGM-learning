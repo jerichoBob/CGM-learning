{
 "cells": [
  {
   "cell_type": "markdown",
   "metadata": {},
   "source": [
    "# Modified Sightline/Extraction Boxes\n",
    "\n",
    "This notebook will help me identify the new sightline extraction boxes. It will be done using a whitelight image inside a jupyter notebook (not QFitsView) so the sightlines will be zero-based\n",
    "Based on a 2023.11.13 meeting with Rongmon, I will define new extraction boxes (fewer boxes covering more of the arc). We will assume that these boxes are large enough that I won't have to worry about SNR at all -- so ignoring those complexities for now.\n",
    "Once I have identified the extraction boxes in this code, I will transfer those extraction boxes over to the \n"
   ]
  },
  {
   "cell_type": "code",
   "execution_count": null,
   "metadata": {},
   "outputs": [],
   "source": []
  }
 ],
 "metadata": {
  "kernelspec": {
   "display_name": "jup_astro",
   "language": "python",
   "name": "python3"
  },
  "language_info": {
   "name": "python",
   "version": "3.9.5"
  }
 },
 "nbformat": 4,
 "nbformat_minor": 2
}
