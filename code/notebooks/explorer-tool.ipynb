{
 "cells": [
  {
   "cell_type": "code",
   "execution_count": 1,
   "metadata": {},
   "outputs": [],
   "source": [
    "# this tool will allow me to create a map of sight-lines across a lensed galaxy (J1429), \n",
    "# adapting my aperture to make sure my SNR is above some threshold (TBD)\n",
    "# Process:\n",
    "#   * load flux and variance cubes\n",
    "#   * display image (grayscale)\n",
    "#   * select aperture size/type\n",
    "#   * select sight-line by clicking image\n",
    "#   * add center point /aperture size to sight-line list\n",
    "#   * extract spectra\n",
    "#   * plot spectra\n",
    "#   * compute SNR of spectra (wavelength range 3700-5500) -- can be made ajustable later\n",
    "#   * display SNR on plot \n"
   ]
  },
  {
   "cell_type": "code",
   "execution_count": 20,
   "metadata": {},
   "outputs": [],
   "source": [
    "# imports of import\n",
    "from kcwitools import io as kcwi_io\n",
    "from kcwitools import spec as kcwi_s\n",
    "from kcwitools import utils as kcwi_u\n",
    "from kcwitools.image import build_whitelight\n",
    "\n",
    "import numpy as np\n",
    "import matplotlib.pyplot as plt\n",
    "\n",
    "# import layout_utils as lu\n"
   ]
  },
  {
   "cell_type": "code",
   "execution_count": 21,
   "metadata": {},
   "outputs": [
    {
     "name": "stdout",
     "output_type": "stream",
     "text": [
      "CD3_3  not present\n",
      "CDELT3 = 1.0\n",
      "CD3_3  not present\n",
      "CDELT3 = 1.0\n"
     ]
    }
   ],
   "source": [
    "# load flux and variance fits file\n",
    "base_path = \"/Users/robertseaton/Desktop/Physics-NCState/---Research/FITS-data/J1429\"\n",
    "flux_filename = base_path+\"/J1429_rb_flux.fits\"\n",
    "var_filename = base_path+\"/J1429_rb_var.fits\"\n",
    "\n",
    "hdr, flux = kcwi_io.open_kcwi_cube(flux_filename)\n",
    "wave = kcwi_u.build_wave(hdr)\n",
    "_, var = kcwi_io.open_kcwi_cube(var_filename)\n",
    "\n",
    "wl_image=build_whitelight(hdr, flux, minwave=4658, maxwave=4665)\n"
   ]
  },
  {
   "cell_type": "code",
   "execution_count": 18,
   "metadata": {},
   "outputs": [],
   "source": [
    "fig = plt.figure(figsize=(14,8))\n",
    "grid_size = (10,6)\n",
    "\n",
    "ax_image = plt.subplot2grid(grid_size, (0, 0), colspan=4, rowspan=4)\n",
    "\n",
    "\n",
    "ax = [];\n",
    "# ax.append(plt.subplot2grid(grid_size, (0, 2), colspan=3, rowspan=2))\n",
    "\n",
    "ax_image.imshow(wl_image,origin=\"lower\",interpolation=\"nearest\",cmap=\"gray\",vmin=0, vmax=255)\n",
    "# plotbox(ax_image, x_cen, y_cen, labels, alignment, 2, 'c')\n",
    "\n",
    "# plt.subplots_adjust(left=0, bottom=0.16, right=0.979, top=0.94, wspace=0.2, hspace=0.021)\n",
    "plt.show()"
   ]
  },
  {
   "cell_type": "code",
   "execution_count": null,
   "metadata": {},
   "outputs": [],
   "source": [
    "fig = plt.figure(figsize=(14,8),layout=\"constrained\")\n",
    "subfigs = fig.subfigures(1, 3, wspace=0.07, width_ratios=[2., 1., 2.])\n",
    "\n",
    "ax_image = subfigs[0].subplots(1, 1)\n",
    "subfigs[0].set_facecolor('0.9')\n",
    "subfigs[0].suptitle('Whitelight Image')\n",
    "# subfigs[0].supxlabel('xlabel for subfigs[0]')\n",
    "ax_image.imshow(wl_image,origin=\"lower\",interpolation=\"nearest\",cmap=\"gray\")\n",
    "\n",
    "ax_image = subfigs[1].subplots(1, 1)\n",
    "subfigs[1].set_facecolor('0.9')\n",
    "subfigs[1].suptitle('Sightlines')\n",
    "# subfigs[1].supxlabel('xlabel for subfigs[1]')\n",
    "\n",
    "axs1 = subfigs[2].subplots(3, 1)\n",
    "subfigs[2].suptitle('Extracted Spectra')\n",
    "subfigs[2].supylabel('Flux')\n",
    "plt.show()"
   ]
  },
  {
   "cell_type": "code",
   "execution_count": null,
   "metadata": {},
   "outputs": [],
   "source": []
  }
 ],
 "metadata": {
  "kernelspec": {
   "display_name": "Python 3 (ipykernel)",
   "language": "python",
   "name": "python3"
  },
  "language_info": {
   "codemirror_mode": {
    "name": "ipython",
    "version": 3
   },
   "file_extension": ".py",
   "mimetype": "text/x-python",
   "name": "python",
   "nbconvert_exporter": "python",
   "pygments_lexer": "ipython3",
   "version": "3.11.2"
  }
 },
 "nbformat": 4,
 "nbformat_minor": 4
}
