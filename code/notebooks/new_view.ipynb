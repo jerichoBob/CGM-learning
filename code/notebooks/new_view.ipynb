{
 "cells": [
  {
   "cell_type": "code",
   "execution_count": 1,
   "id": "ce734dd9-f488-46fe-a552-18aba51fe477",
   "metadata": {},
   "outputs": [],
   "source": [
    "# read in the flux and var data\n",
    "# show the flux image \n",
    "# plot them with common wavelength axis so you can see them both together"
   ]
  },
  {
   "cell_type": "code",
   "execution_count": 9,
   "id": "cbaaa842-d149-4cf9-aa2b-d7453ae872a5",
   "metadata": {},
   "outputs": [
    {
     "name": "stdout",
     "output_type": "stream",
     "text": [
      "CD3_3  not present\n",
      "CDELT3 = 1.0\n",
      "CD3_3  not present\n",
      "CDELT3 = 1.0\n"
     ]
    }
   ],
   "source": [
    "import kcwitools.io as kio\n",
    "import kcwitools.utils as ku\n",
    "from astropy.io import fits, ascii\n",
    "import numpy as np\n",
    "import matplotlib.pyplot as plt\n",
    "from matplotlib.gridspec import GridSpec\n",
    "from kcwitools.image import build_whitelight\n",
    "from matplotlib.widgets import Slider, Button, TextBox, RangeSlider, RectangleSelector\n",
    "import matplotlib.transforms as mtransforms\n",
    "\n",
    "base_path = \"/Users/robertseaton/Desktop/Physics-NCState/---Research/FITS-data/J1429\"\n",
    "flux_file = fits.open(base_path+\"/J1429_rb_flux.fits\") # J1429_flux\n",
    "var_file = fits.open(base_path+\"/J1429_rb_var.fits\") # J1429_rb_var.fits\n",
    "\n",
    "flux_hdr=flux_file[0].header\n",
    "flux_data=flux_file[0].data\n",
    "flux_wave=ku.build_wave(flux_hdr)\n",
    "wl_image=build_whitelight(flux_hdr, flux_data)"
   ]
  },
  {
   "cell_type": "code",
   "execution_count": 21,
   "id": "785f4c19-b928-41db-aef2-b0de9ff007f4",
   "metadata": {},
   "outputs": [],
   "source": [
    "layout_str = '''\n",
    "....bb.cccc\n",
    "aa..bb.dddd\n",
    "aa..bb.eeee\n",
    "....bb.ffff\n",
    "'''\n",
    "\n",
    "fig, axs = plt.subplot_mosaic(layout_str)\n",
    "for label, ax in axs.items():\n",
    "    # label physical distance in and down:\n",
    "    trans = mtransforms.ScaledTranslation(10/72, -5/72, fig.dpi_scale_trans)\n",
    "    ax.text(0.0, 1.0, label, transform=ax.transAxes + trans,\n",
    "            fontsize='medium', verticalalignment='top', fontfamily='serif',\n",
    "            bbox=dict(facecolor='0.7', edgecolor='none', pad=3.0))\n",
    "\n",
    "plt.show()"
   ]
  },
  {
   "cell_type": "code",
   "execution_count": null,
   "id": "f215b1ca-e0ff-40f4-8a40-a4bc6f510d35",
   "metadata": {},
   "outputs": [],
   "source": []
  }
 ],
 "metadata": {
  "kernelspec": {
   "display_name": "Python 3 (ipykernel)",
   "language": "python",
   "name": "python3"
  },
  "language_info": {
   "codemirror_mode": {
    "name": "ipython",
    "version": 3
   },
   "file_extension": ".py",
   "mimetype": "text/x-python",
   "name": "python",
   "nbconvert_exporter": "python",
   "pygments_lexer": "ipython3",
   "version": "3.11.2"
  }
 },
 "nbformat": 4,
 "nbformat_minor": 5
}
