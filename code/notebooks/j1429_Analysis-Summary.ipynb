{
 "cells": [
  {
   "attachments": {},
   "cell_type": "markdown",
   "metadata": {},
   "source": [
    "# J1429 CGM Analysis"
   ]
  },
  {
   "attachments": {},
   "cell_type": "markdown",
   "metadata": {},
   "source": [
    "## Methods / Analysis Process \n",
    "1. Environmental setup (critical to having the tools behave properly)\n",
    "      ```\n",
    "      % cd rbcodes; conda create --name astroresearch --file requirements_simple.txt\n",
    "      % conda activate astroresearch\n",
    "      % cd ~/School/github_repos/kcwitools/; python setup.py install\n",
    "      % cd ~/School/github_repos/linetools; python setup.py develop\n",
    "      ```\n",
    "   you can run the extraction tool, rbspecgui and Analyze-z_2.1811.py\n",
    "2. Obtained KCWI J1429 flux/error cubes from Rongmon\n",
    "   * **NOTE:** error cube looks fishy but was told to proceed with analysis.\n",
    "   * **NOTE2:** Rongmon said he would reach out to John O'Meara and get another sample of J1429\n",
    "3. In **QFitsView**, selected sight-lines and aperture size\n",
    "4. Edited **j1429_extraction_tool_v3.py** (found in **CGM-learning/code**/) for sight-lines and aperture size from above\n",
    "   1. Continuum range set to 4864-4914\n",
    "   <img src=\"./QFitsView-Continuum.png\" width=\"600\">\n",
    "\n",
    "5. Ran **j1429_extraction_tool_v3.py**\n",
    "   * This produces a single FITS 1D Spectrum file for each sightline\n",
    "6. Obtained redshift values to analyze\n",
    "   * Rongmon provided the following:\n",
    "      * z = 2.18025\n",
    "      * z = 2.22245\n",
    "      * z = 2.29849\n",
    "      * z = 2.34708\n",
    "7. Run **rbspecgui** to identify metal absorption lines at each of the provided redshift values. \n",
    "8. Edit/run **Analyze-z_2.1811.py**  <font color='green'> DONE </font>\n",
    "9.  Edit/run **Analyze-z_2.2238.py**  <font color='red'> TBD </font>\n",
    "10. Edit/run **Analyze-z_2.2995.py**  <font color='red'> TBD </font>\n",
    "11. Edit/run **Analyze-z_2.3482.py**  <font color='red'> TBD </font>"
   ]
  },
  {
   "attachments": {},
   "cell_type": "markdown",
   "metadata": {},
   "source": [
    "## Step 5: Running j1429_extraction_tool_v3.py\n",
    "\n",
    "Running **CGM-learning/code/j1429_extraction_tool_v3.py** produces a screen as shown below\n",
    "\n",
    "As indicated by the metadata in the upper lefthand side, the aperture is 3 pixels x 3 pixels and each sightline is labeled numerically and its associated specturm, along with the x,y coordinates and the Signal-to-noise ratio (SNR). \n",
    "\n",
    "In the spectrum, the red color corresponds to the flux, and the variance is show in gray. \n",
    "\n",
    "The continuum was taken to be between 4750 and 5500 (a broader range caused the SNR to drop below 1.0)\n",
    "\n",
    "<img src=\"sightlines/best-j1429-12-sightlines-with-spectra-3x3-4750-5500.png\" width=\"1200\">\n",
    "\n",
    "\n",
    "**j1429_extraction_tool_v3.py** also outputs the same 1 FITS 1D Spectrum for each of the 12 sightlines.\n"
   ]
  },
  {
   "attachments": {},
   "cell_type": "markdown",
   "metadata": {},
   "source": [
    "## 7. Run **rbspecgui** to identify metal absorption lines at each redshift. \n",
    "\n",
    "When doing the metal line identification, it seemed that each redshift needed to be tweaked slightly to line up more precisely with the \"bottom trough\" of the absorber."
   ]
  },
  {
   "attachments": {},
   "cell_type": "markdown",
   "metadata": {},
   "source": [
    "### Redshift z = 2.1811 questions\n",
    "\n",
    "There were a couple of lines that didn't look right to me:\n",
    "\n",
    "For the Si.II doublet 1190/1193, the oscillator strength of 1193 is roughly double of 1190, but it looks roughly equivalent here (which makes me not trust it)\n",
    "\n",
    "<img src=\"./z_2.1811/rbspecgui-question-SiII.png\" width=\"600\">\n",
    "\n",
    "Fe.II and Al.II just look like they are in the middle of other absorbers (at different redshifts), but I couldn't tell if they were legit.\n",
    "\n",
    "<img src=\"./z_2.1811/rbspecgui-question-Al-Fe.png\" width=\"600\">\n",
    "\n"
   ]
  },
  {
   "attachments": {},
   "cell_type": "markdown",
   "metadata": {},
   "source": [
    "## 8. Edit/run **Analyze-z_2.1811.py** \n",
    "\n",
    "located in ~/Desktop/Physics-NCState/---Research/Analysis/J1429\n",
    "\n",
    "Edit file to insert the redshift and associated metal ion absorption lines found above. \n",
    "\n",
    "This script uses Absorber and Metal_plot from rbcodes/GUI/\n",
    "\n",
    "After adjusting the continuum mask, the order of the polynomial fit and left/right locations of the Normalized Spectra, ran the All Measurements (M) command and saved the data, and pickle files to disk.\n",
    "\n",
    "See attached for **Spectrum Analysis pdfs**.\n",
    "\n"
   ]
  },
  {
   "cell_type": "code",
   "execution_count": 18,
   "metadata": {},
   "outputs": [
    {
     "data": {
      "text/html": [
       "<style type=\"text/css\">\n",
       "#T_b99a0_row4_col5 {\n",
       "  color: red;\n",
       "}\n",
       "</style>\n",
       "<table id=\"T_b99a0_\">\n",
       "  <thead>\n",
       "    <tr>\n",
       "      <th class=\"blank level0\" >&nbsp;</th>\n",
       "      <th class=\"col_heading level0 col0\" >Transitions</th>\n",
       "      <th class=\"col_heading level0 col1\" >EW</th>\n",
       "      <th class=\"col_heading level0 col2\" >EWsig</th>\n",
       "      <th class=\"col_heading level0 col3\" >Vmin</th>\n",
       "      <th class=\"col_heading level0 col4\" >Vmax</th>\n",
       "      <th class=\"col_heading level0 col5\" >N</th>\n",
       "      <th class=\"col_heading level0 col6\" >Nsig</th>\n",
       "      <th class=\"col_heading level0 col7\" >Vel</th>\n",
       "    </tr>\n",
       "  </thead>\n",
       "  <tbody>\n",
       "    <tr>\n",
       "      <th id=\"T_b99a0_level0_row0\" class=\"row_heading level0 row0\" >0</th>\n",
       "      <td id=\"T_b99a0_row0_col0\" class=\"data row0 col0\" >SiII 1190</td>\n",
       "      <td id=\"T_b99a0_row0_col1\" class=\"data row0 col1\" >617119.390000</td>\n",
       "      <td id=\"T_b99a0_row0_col2\" class=\"data row0 col2\" >2295113.570000</td>\n",
       "      <td id=\"T_b99a0_row0_col3\" class=\"data row0 col3\" >-200.000000</td>\n",
       "      <td id=\"T_b99a0_row0_col4\" class=\"data row0 col4\" >200.000000</td>\n",
       "      <td id=\"T_b99a0_row0_col5\" class=\"data row0 col5\" >14.420000</td>\n",
       "      <td id=\"T_b99a0_row0_col6\" class=\"data row0 col6\" >15.090000</td>\n",
       "      <td id=\"T_b99a0_row0_col7\" class=\"data row0 col7\" >-66.020000</td>\n",
       "    </tr>\n",
       "    <tr>\n",
       "      <th id=\"T_b99a0_level0_row1\" class=\"row_heading level0 row1\" >1</th>\n",
       "      <td id=\"T_b99a0_row1_col0\" class=\"data row1 col0\" >SiII 1193</td>\n",
       "      <td id=\"T_b99a0_row1_col1\" class=\"data row1 col1\" >200881.260000</td>\n",
       "      <td id=\"T_b99a0_row1_col2\" class=\"data row1 col2\" >2576874.000000</td>\n",
       "      <td id=\"T_b99a0_row1_col3\" class=\"data row1 col3\" >-113.240000</td>\n",
       "      <td id=\"T_b99a0_row1_col4\" class=\"data row1 col4\" >294.650000</td>\n",
       "      <td id=\"T_b99a0_row1_col5\" class=\"data row1 col5\" >13.710000</td>\n",
       "      <td id=\"T_b99a0_row1_col6\" class=\"data row1 col6\" >14.700000</td>\n",
       "      <td id=\"T_b99a0_row1_col7\" class=\"data row1 col7\" >66.380000</td>\n",
       "    </tr>\n",
       "    <tr>\n",
       "      <th id=\"T_b99a0_level0_row2\" class=\"row_heading level0 row2\" >2</th>\n",
       "      <td id=\"T_b99a0_row2_col0\" class=\"data row2 col0\" >SiIII 1206</td>\n",
       "      <td id=\"T_b99a0_row2_col1\" class=\"data row2 col1\" >981856.550000</td>\n",
       "      <td id=\"T_b99a0_row2_col2\" class=\"data row2 col2\" >2170425.810000</td>\n",
       "      <td id=\"T_b99a0_row2_col3\" class=\"data row2 col3\" >-208.000000</td>\n",
       "      <td id=\"T_b99a0_row2_col4\" class=\"data row2 col4\" >323.490000</td>\n",
       "      <td id=\"T_b99a0_row2_col5\" class=\"data row2 col5\" >13.910000</td>\n",
       "      <td id=\"T_b99a0_row2_col6\" class=\"data row2 col6\" >14.360000</td>\n",
       "      <td id=\"T_b99a0_row2_col7\" class=\"data row2 col7\" >1.380000</td>\n",
       "    </tr>\n",
       "    <tr>\n",
       "      <th id=\"T_b99a0_level0_row3\" class=\"row_heading level0 row3\" >3</th>\n",
       "      <td id=\"T_b99a0_row3_col0\" class=\"data row3 col0\" >NV 1238</td>\n",
       "      <td id=\"T_b99a0_row3_col1\" class=\"data row3 col1\" >369868.250000</td>\n",
       "      <td id=\"T_b99a0_row3_col2\" class=\"data row3 col2\" >2628807.590000</td>\n",
       "      <td id=\"T_b99a0_row3_col3\" class=\"data row3 col3\" >-200.000000</td>\n",
       "      <td id=\"T_b99a0_row3_col4\" class=\"data row3 col4\" >200.000000</td>\n",
       "      <td id=\"T_b99a0_row3_col5\" class=\"data row3 col5\" >14.350000</td>\n",
       "      <td id=\"T_b99a0_row3_col6\" class=\"data row3 col6\" >15.220000</td>\n",
       "      <td id=\"T_b99a0_row3_col7\" class=\"data row3 col7\" >-53.580000</td>\n",
       "    </tr>\n",
       "    <tr>\n",
       "      <th id=\"T_b99a0_level0_row4\" class=\"row_heading level0 row4\" >4</th>\n",
       "      <td id=\"T_b99a0_row4_col0\" class=\"data row4 col0\" >NV 1242</td>\n",
       "      <td id=\"T_b99a0_row4_col1\" class=\"data row4 col1\" >-356391.730000</td>\n",
       "      <td id=\"T_b99a0_row4_col2\" class=\"data row4 col2\" >3593171.030000</td>\n",
       "      <td id=\"T_b99a0_row4_col3\" class=\"data row4 col3\" >-200.000000</td>\n",
       "      <td id=\"T_b99a0_row4_col4\" class=\"data row4 col4\" >200.000000</td>\n",
       "      <td id=\"T_b99a0_row4_col5\" class=\"data row4 col5\" >nan</td>\n",
       "      <td id=\"T_b99a0_row4_col6\" class=\"data row4 col6\" >15.510000</td>\n",
       "      <td id=\"T_b99a0_row4_col7\" class=\"data row4 col7\" >-179.400000</td>\n",
       "    </tr>\n",
       "    <tr>\n",
       "      <th id=\"T_b99a0_level0_row5\" class=\"row_heading level0 row5\" >5</th>\n",
       "      <td id=\"T_b99a0_row5_col0\" class=\"data row5 col0\" >SiII 1526</td>\n",
       "      <td id=\"T_b99a0_row5_col1\" class=\"data row5 col1\" >689645.980000</td>\n",
       "      <td id=\"T_b99a0_row5_col2\" class=\"data row5 col2\" >1603356.110000</td>\n",
       "      <td id=\"T_b99a0_row5_col3\" class=\"data row5 col3\" >-137.960000</td>\n",
       "      <td id=\"T_b99a0_row5_col4\" class=\"data row5 col4\" >274.050000</td>\n",
       "      <td id=\"T_b99a0_row5_col5\" class=\"data row5 col5\" >14.620000</td>\n",
       "      <td id=\"T_b99a0_row5_col6\" class=\"data row5 col6\" >15.060000</td>\n",
       "      <td id=\"T_b99a0_row5_col7\" class=\"data row5 col7\" >35.500000</td>\n",
       "    </tr>\n",
       "    <tr>\n",
       "      <th id=\"T_b99a0_level0_row6\" class=\"row_heading level0 row6\" >6</th>\n",
       "      <td id=\"T_b99a0_row6_col0\" class=\"data row6 col0\" >CIV 1548</td>\n",
       "      <td id=\"T_b99a0_row6_col1\" class=\"data row6 col1\" >550753.680000</td>\n",
       "      <td id=\"T_b99a0_row6_col2\" class=\"data row6 col2\" >2163928.350000</td>\n",
       "      <td id=\"T_b99a0_row6_col3\" class=\"data row6 col3\" >-175.040000</td>\n",
       "      <td id=\"T_b99a0_row6_col4\" class=\"data row6 col4\" >274.050000</td>\n",
       "      <td id=\"T_b99a0_row6_col5\" class=\"data row6 col5\" >14.270000</td>\n",
       "      <td id=\"T_b99a0_row6_col6\" class=\"data row6 col6\" >14.860000</td>\n",
       "      <td id=\"T_b99a0_row6_col7\" class=\"data row6 col7\" >10.130000</td>\n",
       "    </tr>\n",
       "    <tr>\n",
       "      <th id=\"T_b99a0_level0_row7\" class=\"row_heading level0 row7\" >7</th>\n",
       "      <td id=\"T_b99a0_row7_col0\" class=\"data row7 col0\" >CIV 1550</td>\n",
       "      <td id=\"T_b99a0_row7_col1\" class=\"data row7 col1\" >171676.580000</td>\n",
       "      <td id=\"T_b99a0_row7_col2\" class=\"data row7 col2\" >2064548.990000</td>\n",
       "      <td id=\"T_b99a0_row7_col3\" class=\"data row7 col3\" >-158.560000</td>\n",
       "      <td id=\"T_b99a0_row7_col4\" class=\"data row7 col4\" >208.130000</td>\n",
       "      <td id=\"T_b99a0_row7_col5\" class=\"data row7 col5\" >13.990000</td>\n",
       "      <td id=\"T_b99a0_row7_col6\" class=\"data row7 col6\" >15.050000</td>\n",
       "      <td id=\"T_b99a0_row7_col7\" class=\"data row7 col7\" >17.930000</td>\n",
       "    </tr>\n",
       "    <tr>\n",
       "      <th id=\"T_b99a0_level0_row8\" class=\"row_heading level0 row8\" >8</th>\n",
       "      <td id=\"T_b99a0_row8_col0\" class=\"data row8 col0\" >FeII 1608</td>\n",
       "      <td id=\"T_b99a0_row8_col1\" class=\"data row8 col1\" >-29137.260000</td>\n",
       "      <td id=\"T_b99a0_row8_col2\" class=\"data row8 col2\" >2571446.930000</td>\n",
       "      <td id=\"T_b99a0_row8_col3\" class=\"data row8 col3\" >-187.400000</td>\n",
       "      <td id=\"T_b99a0_row8_col4\" class=\"data row8 col4\" >245.210000</td>\n",
       "      <td id=\"T_b99a0_row8_col5\" class=\"data row8 col5\" >13.730000</td>\n",
       "      <td id=\"T_b99a0_row8_col6\" class=\"data row8 col6\" >15.290000</td>\n",
       "      <td id=\"T_b99a0_row8_col7\" class=\"data row8 col7\" >221.000000</td>\n",
       "    </tr>\n",
       "    <tr>\n",
       "      <th id=\"T_b99a0_level0_row9\" class=\"row_heading level0 row9\" >9</th>\n",
       "      <td id=\"T_b99a0_row9_col0\" class=\"data row9 col0\" >AlII 1670</td>\n",
       "      <td id=\"T_b99a0_row9_col1\" class=\"data row9 col1\" >510817.040000</td>\n",
       "      <td id=\"T_b99a0_row9_col2\" class=\"data row9 col2\" >2110057.640000</td>\n",
       "      <td id=\"T_b99a0_row9_col3\" class=\"data row9 col3\" >-133.840000</td>\n",
       "      <td id=\"T_b99a0_row9_col4\" class=\"data row9 col4\" >253.450000</td>\n",
       "      <td id=\"T_b99a0_row9_col5\" class=\"data row9 col5\" >13.210000</td>\n",
       "      <td id=\"T_b99a0_row9_col6\" class=\"data row9 col6\" >13.840000</td>\n",
       "      <td id=\"T_b99a0_row9_col7\" class=\"data row9 col7\" >32.080000</td>\n",
       "    </tr>\n",
       "  </tbody>\n",
       "</table>\n"
      ],
      "text/plain": [
       "<pandas.io.formats.style.Styler at 0x7f8ef81fe5e0>"
      ]
     },
     "metadata": {},
     "output_type": "display_data"
    }
   ],
   "source": [
    "import pandas as pd\n",
    "# NOTE: this import forced me to install ipython via vscode, which could corrupt my astroresearch -- only time will tell\n",
    "# NOTE: using styling on the datatable supposedly (but not actually) required me to install jinja2, which may corrupt astroresearch environment -- only time will tell\n",
    "measurement_table = pd.read_csv('./z_2.1811/Spectrum_Analysis_z_2.1811_Measurement_Table.csv')\n",
    "display(measurement_table.style.applymap(lambda cell: 'color:red' if pd.isnull(cell) else ''))\n"
   ]
  },
  {
   "attachments": {},
   "cell_type": "markdown",
   "metadata": {},
   "source": [
    "Both transition #4 (NV) and transition #8 (Fe.II) with negative EWs look **erroneous**.\n",
    "\n",
    "Acceptible range for EW? Values in the 10^5 - 10^6 seem very high **-- that's because there was an extra x1000 in the code. this has now been fixed.**\n",
    "\n",
    "Do the rest of the transitions look correct?"
   ]
  },
  {
   "attachments": {},
   "cell_type": "markdown",
   "metadata": {},
   "source": []
  },
  {
   "attachments": {},
   "cell_type": "markdown",
   "metadata": {},
   "source": [
    "### Redshift z=2.2238 - TBD"
   ]
  },
  {
   "attachments": {},
   "cell_type": "markdown",
   "metadata": {},
   "source": [
    "### Redshift z=2.2995 - TBD"
   ]
  },
  {
   "attachments": {},
   "cell_type": "markdown",
   "metadata": {},
   "source": [
    "### Redshift z=2.3482 - TBD"
   ]
  }
 ],
 "metadata": {
  "kernelspec": {
   "display_name": "Python 3 (ipykernel)",
   "language": "python",
   "name": "python3"
  },
  "language_info": {
   "codemirror_mode": {
    "name": "ipython",
    "version": 3
   },
   "file_extension": ".py",
   "mimetype": "text/x-python",
   "name": "python",
   "nbconvert_exporter": "python",
   "pygments_lexer": "ipython3",
   "version": "3.11.4"
  }
 },
 "nbformat": 4,
 "nbformat_minor": 4
}
