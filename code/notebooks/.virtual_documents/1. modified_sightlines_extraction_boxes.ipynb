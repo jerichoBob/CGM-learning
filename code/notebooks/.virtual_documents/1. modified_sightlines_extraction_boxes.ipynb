





# imports

import sys, os, glob, time
import numpy as np

import matplotlib
matplotlib.use('TkAgg')
# %matplotlib inline
# %matplotlib ipympl
import matplotlib.pyplot as plt
import matplotlib.gridspec as gridspec
import matplotlib.colors as mcolors


from kcwitools.io import open_kcwi_cube
from kcwitools.utils import build_wave
from kcwitools import image as im


from astropy.wcs import WCS, FITSFixedWarning
import warnings

warnings.simplefilter('ignore')
warnings.filterwarnings('ignore', category=FITSFixedWarning)

bu_path = '/Users/robertseaton/School/github_repos/CGM-learning/code'
if bu_path not in sys.path:
    sys.path.append(bu_path)
from bobutils import utils as bu, fileio as bio, layout_utils as lu, sightlines as bus, plotutils as bp

global_nb_min = 4676. 
global_nb_max = 4696. 
global_lw = 0.5



# define sightline coordinates + aperture sizes
sightlines = bus.load_231113_sightlines()
xs, ys, ws, hs = bus.get_xywhs(sightlines) # need these for plotting

wl_image, wcs_ref = bio.load_narrowband_reference_image(global_nb_min, global_nb_max)
sl_radecs = bus.radecs_from_sightlines(wcs_ref, sightlines)




# draw whitelight image
fig = plt.figure(figsize=(10,7), dpi=150)
gs = gridspec.GridSpec(4, 2, figure=fig)
ax_ref_image = fig.add_subplot(gs[0:2, 0:1], projection=wcs_ref)

bp.show_ref_image(ax_ref_image, wl_image, title="Ref Image")
    
# draw sightlines
plt.show()




