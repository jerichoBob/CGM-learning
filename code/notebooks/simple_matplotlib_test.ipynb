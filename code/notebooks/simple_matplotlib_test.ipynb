{
 "cells": [
  {
   "cell_type": "code",
   "execution_count": null,
   "metadata": {},
   "outputs": [],
   "source": [
    "# import matplotlib.pyplot as plt\n",
    "\n",
    "# plt.plot([1, 2, 3, 4])\n",
    "# plt.ylabel('some numbers')\n",
    "# plt.show()"
   ]
  },
  {
   "cell_type": "code",
   "execution_count": null,
   "metadata": {},
   "outputs": [],
   "source": [
    "# import numpy as np\n",
    "\n",
    "# # evenly sampled time at 200ms intervals\n",
    "# t = np.arange(0., 5., 0.2)\n",
    "\n",
    "# # red dashes, blue squares and green triangles\n",
    "# plt.plot(t, t, 'r--', t, t**2, 'bs', t, t**3, 'g^')\n",
    "# plt.show()"
   ]
  },
  {
   "cell_type": "code",
   "execution_count": null,
   "metadata": {},
   "outputs": [],
   "source": [
    "# import numpy as np\n",
    "# import matplotlib.pyplot as plt\n",
    "# data = {'a': np.arange(50),\n",
    "#         'c': np.random.randint(0, 50, 50),\n",
    "#         'd': np.random.randn(50)}\n",
    "# data['b'] = data['a'] + 10 * np.random.randn(50)\n",
    "# data['d'] = np.abs(data['d']) * 100\n",
    "\n",
    "# plt.scatter('a', 'b', c='c', s='d', data=data)\n",
    "# plt.xlabel('entry a')\n",
    "# plt.ylabel('entry b')\n",
    "# plt.show()"
   ]
  },
  {
   "cell_type": "code",
   "execution_count": 1,
   "metadata": {},
   "outputs": [
    {
     "name": "stdout",
     "output_type": "stream",
     "text": [
      "hi\n"
     ]
    }
   ],
   "source": [
    "import matplotlib.pyplot as plt\n",
    "# %matplotlib inline\n",
    "print(\"hi\")\n",
    "import matplotlib.gridspec as gridspec\n",
    "\n",
    "from astropy.io import fits\n",
    "from astropy.wcs import WCS\n",
    "from kcwitools.io import open_kcwi_cube\n",
    "# import kcwitools.extract_weighted_spectrum as ews\n",
    "# from kcwitools.utils import build_wave\n",
    "\n",
    "def create_image_flux_var_layout(plt, title=\"GridSpec Layout\"):\n",
    "    ax = []\n",
    "    fig = plt.figure(figsize=(8,4), layout=\"constrained\")\n",
    "    fig.suptitle(title)\n",
    "\n",
    "    gs = gridspec.GridSpec(10, 10, figure=fig)\n",
    "    ax.append(fig.add_subplot(gs[2:8, 1:4])) # image\n",
    "    ax.append(fig.add_subplot(gs[1:5, 4:10])) # flux spec\n",
    "    ax.append(fig.add_subplot(gs[5:9, 4:10])) # var spec\n",
    "\n",
    "    return ax\n",
    "\n",
    "plt.close()\n",
    "ax_image, ax_flux, ax_var = create_image_flux_var_layout(plt, title=\"Test Plot\")\n",
    "# plt.show()"
   ]
  },
  {
   "cell_type": "code",
   "execution_count": null,
   "metadata": {},
   "outputs": [],
   "source": []
  }
 ],
 "metadata": {
  "kernelspec": {
   "display_name": "jup_astro",
   "language": "python",
   "name": "python3"
  },
  "language_info": {
   "codemirror_mode": {
    "name": "ipython",
    "version": 3
   },
   "file_extension": ".py",
   "mimetype": "text/x-python",
   "name": "python",
   "nbconvert_exporter": "python",
   "pygments_lexer": "ipython3",
   "version": "3.9.5"
  },
  "orig_nbformat": 4
 },
 "nbformat": 4,
 "nbformat_minor": 2
}
