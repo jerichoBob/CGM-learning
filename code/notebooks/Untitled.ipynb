{
 "cells": [
  {
   "cell_type": "code",
   "execution_count": 14,
   "id": "fd9e4bf9-6328-42b5-9467-eb1b83d39951",
   "metadata": {},
   "outputs": [],
   "source": [
    "import math\n",
    "def compute_critial_angle(n_a, n_b):\n",
    "    \"\"\" if a ray is going from a to b, sin(angle) = n_b/n_a \"\"\"\n",
    "    return math.asin(n_b/n_a) * 180.0 / math.pi"
   ]
  },
  {
   "cell_type": "code",
   "execution_count": 17,
   "id": "a042f4ee-e4bb-4c92-9fa7-a5c1a9fb106e",
   "metadata": {},
   "outputs": [
    {
     "name": "stdout",
     "output_type": "stream",
     "text": [
      "angle: 23.58\n"
     ]
    }
   ],
   "source": [
    "print(f\"angle: {compute_critial_angle(2.5, 1.0):0.4g}\")"
   ]
  },
  {
   "cell_type": "code",
   "execution_count": 18,
   "id": "9ef0d4dd-93d6-4be7-84f0-66ea457f247d",
   "metadata": {},
   "outputs": [
    {
     "name": "stdout",
     "output_type": "stream",
     "text": [
      "angle: 59.77\n",
      "angle: 27.58\n"
     ]
    }
   ],
   "source": [
    "print(f\"angle: {compute_critial_angle(2.5, 2.16):0.4g}\")\n",
    "print(f\"angle: {compute_critial_angle(2.16, 1.0):0.4g}\")"
   ]
  },
  {
   "cell_type": "code",
   "execution_count": null,
   "id": "1badedad-7819-40ee-96ab-6b1397e06196",
   "metadata": {},
   "outputs": [],
   "source": []
  }
 ],
 "metadata": {
  "kernelspec": {
   "display_name": "Python 3 (ipykernel)",
   "language": "python",
   "name": "python3"
  },
  "language_info": {
   "codemirror_mode": {
    "name": "ipython",
    "version": 3
   },
   "file_extension": ".py",
   "mimetype": "text/x-python",
   "name": "python",
   "nbconvert_exporter": "python",
   "pygments_lexer": "ipython3",
   "version": "3.9.5"
  }
 },
 "nbformat": 4,
 "nbformat_minor": 5
}
