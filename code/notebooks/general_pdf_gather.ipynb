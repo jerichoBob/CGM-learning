{
 "cells": [
  {
   "cell_type": "markdown",
   "metadata": {},
   "source": [
    "# General PDF Gather\n",
    "\n",
    "A utility to gather together a large collection of pdf files into a single pdf.\n",
    "Inspiration was the collection of lecture notes from Pettini and I was tired of having to load and sort all of the lectures every time I wanted to really use his material."
   ]
  },
  {
   "cell_type": "code",
   "execution_count": 26,
   "metadata": {},
   "outputs": [],
   "source": [
    "from PyPDF2 import PdfWriter, PdfMerger, PdfFileReader, PdfReader, PageObject, PaperSize, Transformation\n",
    "import os, re\n"
   ]
  },
  {
   "cell_type": "code",
   "execution_count": 21,
   "metadata": {},
   "outputs": [],
   "source": [
    "def find_pdfs(basedir):\n",
    "    return (os.path.join(root, file)\n",
    "        for root, dirs, files in os.walk(basedir)\n",
    "            for file in files if re.match(r\"Lecture\\d+.pdf\", file))\n",
    "                # if file.lower().endswith('.pdf'))\n",
    "\n",
    "def print_list(list):\n",
    "    for pdf in list:\n",
    "        print(pdf)\n",
    "\n",
    "def gather_pdfs(paths):\n",
    "    \"\"\"Gather all PDFs into a single PDF file. A simple copy/paste exercise\"\"\"\n",
    "    writer = PdfWriter()\n",
    "\n",
    "    output_file = \"./output.pdf\"\n",
    "\n",
    "    with open(output_file, \"wb\") as fp:\n",
    "        for filepath in paths:\n",
    "            # label = f\"J1429 - Sightline: #{get_sightline_from_path(filepath)}  z: {get_redshift_from_path(filepath)}  Ion Grouping: {get_ion_index_from_path(filepath)}\"\n",
    "            print(\"- \"*20)\n",
    "            # print(f\"filepath: {filepath}\")\n",
    "            print(f\"   label: {label}\")\n",
    "            # label_pages(label, filepath, writer)\n",
    "            writer.write(fp)\n",
    "\n",
    "    writer.close()\n"
   ]
  },
  {
   "cell_type": "code",
   "execution_count": 27,
   "metadata": {},
   "outputs": [
    {
     "name": "stdout",
     "output_type": "stream",
     "text": [
      "pdf_files in /Users/robertseaton/Desktop/Physics-NCState/---Research/Pettini - intro to cosmology/\n",
      "/Users/robertseaton/Desktop/Physics-NCState/---Research/Pettini - intro to cosmology/Lecture01.pdf\n",
      "/Users/robertseaton/Desktop/Physics-NCState/---Research/Pettini - intro to cosmology/Lecture02.pdf\n",
      "/Users/robertseaton/Desktop/Physics-NCState/---Research/Pettini - intro to cosmology/Lecture03.pdf\n",
      "/Users/robertseaton/Desktop/Physics-NCState/---Research/Pettini - intro to cosmology/Lecture04.pdf\n",
      "/Users/robertseaton/Desktop/Physics-NCState/---Research/Pettini - intro to cosmology/Lecture05.pdf\n",
      "/Users/robertseaton/Desktop/Physics-NCState/---Research/Pettini - intro to cosmology/Lecture06.pdf\n",
      "/Users/robertseaton/Desktop/Physics-NCState/---Research/Pettini - intro to cosmology/Lecture07.pdf\n",
      "/Users/robertseaton/Desktop/Physics-NCState/---Research/Pettini - intro to cosmology/Lecture08.pdf\n",
      "/Users/robertseaton/Desktop/Physics-NCState/---Research/Pettini - intro to cosmology/Lecture09.pdf\n",
      "/Users/robertseaton/Desktop/Physics-NCState/---Research/Pettini - intro to cosmology/Lecture10.pdf\n",
      "/Users/robertseaton/Desktop/Physics-NCState/---Research/Pettini - intro to cosmology/Lecture11.pdf\n",
      "/Users/robertseaton/Desktop/Physics-NCState/---Research/Pettini - intro to cosmology/Lecture12.pdf\n",
      "/Users/robertseaton/Desktop/Physics-NCState/---Research/Pettini - intro to cosmology/Lecture13.pdf\n",
      "/Users/robertseaton/Desktop/Physics-NCState/---Research/Pettini - intro to cosmology/Lecture14.pdf\n",
      "/Users/robertseaton/Desktop/Physics-NCState/---Research/Pettini - intro to cosmology/Lecture15.pdf\n",
      "/Users/robertseaton/Desktop/Physics-NCState/---Research/Pettini - intro to cosmology/Lecture16.pdf\n",
      "/Users/robertseaton/Desktop/Physics-NCState/---Research/Pettini - intro to cosmology/Lecture17.pdf\n"
     ]
    },
    {
     "ename": "DeprecationError",
     "evalue": "PdfFileReader is deprecated and was removed in PyPDF2 3.0.0. Use PdfReader instead.",
     "output_type": "error",
     "traceback": [
      "\u001b[0;31m---------------------------------------------------------------------------\u001b[0m",
      "\u001b[0;31mDeprecationError\u001b[0m                          Traceback (most recent call last)",
      "Cell \u001b[0;32mIn[27], line 11\u001b[0m\n\u001b[1;32m      9\u001b[0m \u001b[39mfor\u001b[39;00m filename \u001b[39min\u001b[39;00m pdf_files:\n\u001b[1;32m     10\u001b[0m         pdfFile \u001b[39m=\u001b[39m \u001b[39mopen\u001b[39m(filename, \u001b[39m'\u001b[39m\u001b[39mrb\u001b[39m\u001b[39m'\u001b[39m)\n\u001b[0;32m---> 11\u001b[0m         pdfReader \u001b[39m=\u001b[39m PdfFileReader(pdfFile)\n\u001b[1;32m     12\u001b[0m         pdfMerge\u001b[39m.\u001b[39mappend(pdfReader)\n\u001b[1;32m     14\u001b[0m pdfFile\u001b[39m.\u001b[39mclose()\n",
      "File \u001b[0;32m~/miniforge3/envs/jup_astro/lib/python3.9/site-packages/PyPDF2/_reader.py:1974\u001b[0m, in \u001b[0;36mPdfFileReader.__init__\u001b[0;34m(self, *args, **kwargs)\u001b[0m\n\u001b[1;32m   1973\u001b[0m \u001b[39mdef\u001b[39;00m \u001b[39m__init__\u001b[39m(\u001b[39mself\u001b[39m, \u001b[39m*\u001b[39margs: Any, \u001b[39m*\u001b[39m\u001b[39m*\u001b[39mkwargs: Any) \u001b[39m-\u001b[39m\u001b[39m>\u001b[39m \u001b[39mNone\u001b[39;00m:\n\u001b[0;32m-> 1974\u001b[0m     deprecation_with_replacement(\u001b[39m\"\u001b[39;49m\u001b[39mPdfFileReader\u001b[39;49m\u001b[39m\"\u001b[39;49m, \u001b[39m\"\u001b[39;49m\u001b[39mPdfReader\u001b[39;49m\u001b[39m\"\u001b[39;49m, \u001b[39m\"\u001b[39;49m\u001b[39m3.0.0\u001b[39;49m\u001b[39m\"\u001b[39;49m)\n\u001b[1;32m   1975\u001b[0m     \u001b[39mif\u001b[39;00m \u001b[39m\"\u001b[39m\u001b[39mstrict\u001b[39m\u001b[39m\"\u001b[39m \u001b[39mnot\u001b[39;00m \u001b[39min\u001b[39;00m kwargs \u001b[39mand\u001b[39;00m \u001b[39mlen\u001b[39m(args) \u001b[39m<\u001b[39m \u001b[39m2\u001b[39m:\n\u001b[1;32m   1976\u001b[0m         kwargs[\u001b[39m\"\u001b[39m\u001b[39mstrict\u001b[39m\u001b[39m\"\u001b[39m] \u001b[39m=\u001b[39m \u001b[39mTrue\u001b[39;00m  \u001b[39m# maintain the default\u001b[39;00m\n",
      "File \u001b[0;32m~/miniforge3/envs/jup_astro/lib/python3.9/site-packages/PyPDF2/_utils.py:369\u001b[0m, in \u001b[0;36mdeprecation_with_replacement\u001b[0;34m(old_name, new_name, removed_in)\u001b[0m\n\u001b[1;32m    363\u001b[0m \u001b[39mdef\u001b[39;00m \u001b[39mdeprecation_with_replacement\u001b[39m(\n\u001b[1;32m    364\u001b[0m     old_name: \u001b[39mstr\u001b[39m, new_name: \u001b[39mstr\u001b[39m, removed_in: \u001b[39mstr\u001b[39m \u001b[39m=\u001b[39m \u001b[39m\"\u001b[39m\u001b[39m3.0.0\u001b[39m\u001b[39m\"\u001b[39m\n\u001b[1;32m    365\u001b[0m ) \u001b[39m-\u001b[39m\u001b[39m>\u001b[39m \u001b[39mNone\u001b[39;00m:\n\u001b[1;32m    366\u001b[0m \u001b[39m    \u001b[39m\u001b[39m\"\"\"\u001b[39;00m\n\u001b[1;32m    367\u001b[0m \u001b[39m    Raise an exception that a feature was already removed, but has a replacement.\u001b[39;00m\n\u001b[1;32m    368\u001b[0m \u001b[39m    \"\"\"\u001b[39;00m\n\u001b[0;32m--> 369\u001b[0m     deprecation(DEPR_MSG_HAPPENED\u001b[39m.\u001b[39;49mformat(old_name, removed_in, new_name))\n",
      "File \u001b[0;32m~/miniforge3/envs/jup_astro/lib/python3.9/site-packages/PyPDF2/_utils.py:351\u001b[0m, in \u001b[0;36mdeprecation\u001b[0;34m(msg)\u001b[0m\n\u001b[1;32m    350\u001b[0m \u001b[39mdef\u001b[39;00m \u001b[39mdeprecation\u001b[39m(msg: \u001b[39mstr\u001b[39m) \u001b[39m-\u001b[39m\u001b[39m>\u001b[39m \u001b[39mNone\u001b[39;00m:\n\u001b[0;32m--> 351\u001b[0m     \u001b[39mraise\u001b[39;00m DeprecationError(msg)\n",
      "\u001b[0;31mDeprecationError\u001b[0m: PdfFileReader is deprecated and was removed in PyPDF2 3.0.0. Use PdfReader instead."
     ]
    }
   ],
   "source": [
    "# effectively, our \"main()\"\n",
    "basedir = \"/Users/robertseaton/Desktop/Physics-NCState/---Research/Pettini - intro to cosmology/\"\n",
    "pdf_files = list(sorted(find_pdfs(basedir)))\n",
    "print(f\"pdf_files in {basedir}\")\n",
    "print_list(pdf_files)\n",
    "\n",
    "pdfMerge = PdfMerger()\n",
    "\n",
    "for filename in pdf_files:\n",
    "        pdfFile = open(filename, 'rb')\n",
    "        pdfReader = PdfReader(pdfFile)\n",
    "        pdfMerge.append(pdfReader)\n",
    "\n",
    "pdfFile.close()\n",
    "pdfMerge.write('merged.pdf')\n",
    "# merger = PdfFileMerger()\n",
    "# for filename in filenames:\n",
    "#     merger.append(PdfFileReader(file(filename, 'rb')))\n",
    "\n",
    "# merger.write(\"document-output.pdf\")\n"
   ]
  },
  {
   "cell_type": "code",
   "execution_count": null,
   "metadata": {},
   "outputs": [],
   "source": []
  }
 ],
 "metadata": {
  "kernelspec": {
   "display_name": "jup_astro",
   "language": "python",
   "name": "python3"
  },
  "language_info": {
   "codemirror_mode": {
    "name": "ipython",
    "version": 3
   },
   "file_extension": ".py",
   "mimetype": "text/x-python",
   "name": "python",
   "nbconvert_exporter": "python",
   "pygments_lexer": "ipython3",
   "version": "3.9.5"
  },
  "orig_nbformat": 4
 },
 "nbformat": 4,
 "nbformat_minor": 2
}
