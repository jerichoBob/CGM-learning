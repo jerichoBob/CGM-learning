{
 "cells": [
  {
   "cell_type": "markdown",
   "metadata": {},
   "source": [
    "# General PDF Gather\n",
    "\n",
    "A utility to gather together a large collection of pdf files into a single pdf.\n",
    "Inspiration was the collection of lecture notes from Pettini and I was tired of having to load and sort all of the lectures every time I wanted to really use his material."
   ]
  },
  {
   "cell_type": "code",
   "execution_count": 26,
   "metadata": {},
   "outputs": [],
   "source": [
    "from PyPDF2 import PdfWriter, PdfMerger, PdfFileReader, PdfReader, PageObject, PaperSize, Transformation\n",
    "import os, re\n"
   ]
  },
  {
   "cell_type": "code",
   "execution_count": 21,
   "metadata": {},
   "outputs": [],
   "source": [
    "def find_pdfs(basedir):\n",
    "    return (os.path.join(root, file)\n",
    "        for root, dirs, files in os.walk(basedir)\n",
    "            for file in files if re.match(r\"Lecture\\d+.pdf\", file))\n",
    "                # if file.lower().endswith('.pdf'))\n",
    "\n",
    "def print_list(list):\n",
    "    for pdf in list:\n",
    "        print(pdf)\n",
    "\n",
    "def gather_pdfs(paths):\n",
    "    \"\"\"Gather all PDFs into a single PDF file. A simple copy/paste exercise\"\"\"\n",
    "    writer = PdfWriter()\n",
    "\n",
    "    output_file = \"./output.pdf\"\n",
    "\n",
    "    with open(output_file, \"wb\") as fp:\n",
    "        for filepath in paths:\n",
    "            # label = f\"J1429 - Sightline: #{get_sightline_from_path(filepath)}  z: {get_redshift_from_path(filepath)}  Ion Grouping: {get_ion_index_from_path(filepath)}\"\n",
    "            print(\"- \"*20)\n",
    "            # print(f\"filepath: {filepath}\")\n",
    "            print(f\"   label: {label}\")\n",
    "            # label_pages(label, filepath, writer)\n",
    "            writer.write(fp)\n",
    "\n",
    "    writer.close()\n"
   ]
  },
  {
   "cell_type": "code",
   "execution_count": 28,
   "metadata": {},
   "outputs": [
    {
     "name": "stdout",
     "output_type": "stream",
     "text": [
      "pdf_files in /Users/robertseaton/Desktop/Physics-NCState/---Research/Pettini - intro to cosmology/\n",
      "/Users/robertseaton/Desktop/Physics-NCState/---Research/Pettini - intro to cosmology/Lecture01.pdf\n",
      "/Users/robertseaton/Desktop/Physics-NCState/---Research/Pettini - intro to cosmology/Lecture02.pdf\n",
      "/Users/robertseaton/Desktop/Physics-NCState/---Research/Pettini - intro to cosmology/Lecture03.pdf\n",
      "/Users/robertseaton/Desktop/Physics-NCState/---Research/Pettini - intro to cosmology/Lecture04.pdf\n",
      "/Users/robertseaton/Desktop/Physics-NCState/---Research/Pettini - intro to cosmology/Lecture05.pdf\n",
      "/Users/robertseaton/Desktop/Physics-NCState/---Research/Pettini - intro to cosmology/Lecture06.pdf\n",
      "/Users/robertseaton/Desktop/Physics-NCState/---Research/Pettini - intro to cosmology/Lecture07.pdf\n",
      "/Users/robertseaton/Desktop/Physics-NCState/---Research/Pettini - intro to cosmology/Lecture08.pdf\n",
      "/Users/robertseaton/Desktop/Physics-NCState/---Research/Pettini - intro to cosmology/Lecture09.pdf\n",
      "/Users/robertseaton/Desktop/Physics-NCState/---Research/Pettini - intro to cosmology/Lecture10.pdf\n",
      "/Users/robertseaton/Desktop/Physics-NCState/---Research/Pettini - intro to cosmology/Lecture11.pdf\n",
      "/Users/robertseaton/Desktop/Physics-NCState/---Research/Pettini - intro to cosmology/Lecture12.pdf\n",
      "/Users/robertseaton/Desktop/Physics-NCState/---Research/Pettini - intro to cosmology/Lecture13.pdf\n",
      "/Users/robertseaton/Desktop/Physics-NCState/---Research/Pettini - intro to cosmology/Lecture14.pdf\n",
      "/Users/robertseaton/Desktop/Physics-NCState/---Research/Pettini - intro to cosmology/Lecture15.pdf\n",
      "/Users/robertseaton/Desktop/Physics-NCState/---Research/Pettini - intro to cosmology/Lecture16.pdf\n",
      "/Users/robertseaton/Desktop/Physics-NCState/---Research/Pettini - intro to cosmology/Lecture17.pdf\n"
     ]
    }
   ],
   "source": [
    "# effectively, our \"main()\"\n",
    "basedir = \"/Users/robertseaton/Desktop/Physics-NCState/---Research/Pettini - intro to cosmology/\"\n",
    "pdf_files = list(sorted(find_pdfs(basedir)))\n",
    "print(f\"pdf_files in {basedir}\")\n",
    "print_list(pdf_files)\n",
    "\n",
    "pdfMerge = PdfMerger()\n",
    "\n",
    "for filename in pdf_files:\n",
    "        pdfFile = open(filename, 'rb')\n",
    "        pdfReader = PdfReader(pdfFile)\n",
    "        pdfMerge.append(pdfReader)\n",
    "\n",
    "pdfFile.close()\n",
    "pdfMerge.write('merged.pdf')\n",
    "# merger = PdfFileMerger()\n",
    "# for filename in filenames:\n",
    "#     merger.append(PdfFileReader(file(filename, 'rb')))\n",
    "\n",
    "# merger.write(\"document-output.pdf\")\n"
   ]
  },
  {
   "cell_type": "code",
   "execution_count": null,
   "metadata": {},
   "outputs": [],
   "source": []
  }
 ],
 "metadata": {
  "kernelspec": {
   "display_name": "jup_astro",
   "language": "python",
   "name": "python3"
  },
  "language_info": {
   "codemirror_mode": {
    "name": "ipython",
    "version": 3
   },
   "file_extension": ".py",
   "mimetype": "text/x-python",
   "name": "python",
   "nbconvert_exporter": "python",
   "pygments_lexer": "ipython3",
   "version": "3.9.5"
  },
  "orig_nbformat": 4
 },
 "nbformat": 4,
 "nbformat_minor": 2
}
