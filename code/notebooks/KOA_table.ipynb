{
 "cells": [
  {
   "cell_type": "code",
   "execution_count": null,
   "metadata": {},
   "outputs": [
    {
     "ename": "",
     "evalue": "",
     "output_type": "error",
     "traceback": [
      "\u001b[1;31mRunning cells with 'astroresearch' requires the ipykernel package.\n",
      "\u001b[1;31mRun the following command to install 'ipykernel' into the Python environment. \n",
      "\u001b[1;31mCommand: 'conda install -n astroresearch ipykernel --update-deps --force-reinstall'"
     ]
    }
   ],
   "source": [
    "# this notebook hopefully takes the pain away from downloading a table of results from KOA\n",
    "import requests\n",
    "from bs4 import BeautifulSoup\n",
    "\n",
    "# Running cells with 'astroresearch' requires the ipykernel package.\n",
    "# ok, maybe I'll just do this from the command line"
   ]
  },
  {
   "cell_type": "code",
   "execution_count": null,
   "metadata": {},
   "outputs": [],
   "source": []
  }
 ],
 "metadata": {
  "kernelspec": {
   "display_name": "astroresearch",
   "language": "python",
   "name": "python3"
  },
  "language_info": {
   "name": "python",
   "version": "3.9.5"
  },
  "orig_nbformat": 4
 },
 "nbformat": 4,
 "nbformat_minor": 2
}
