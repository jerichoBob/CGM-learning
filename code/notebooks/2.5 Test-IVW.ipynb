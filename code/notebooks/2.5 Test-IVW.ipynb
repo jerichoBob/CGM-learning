{
 "cells": [
  {
   "cell_type": "code",
   "execution_count": 1,
   "metadata": {},
   "outputs": [],
   "source": [
    "description = '''\n",
    "This is to prove to myself that my inverse variance weighting implementations, specifically:\n",
    "    utils.combine_spectra_ivw(specs)\n",
    "    utils.combine_spectra_ivw2(specs)\n",
    "are correct.\n",
    "'''"
   ]
  },
  {
   "cell_type": "code",
   "execution_count": 2,
   "metadata": {},
   "outputs": [],
   "source": [
    "import sys\n",
    "import numpy as np\n",
    "\n",
    "from linetools.spectra.xspectrum1d import XSpectrum1D  \n",
    "\n",
    "bu_path = '/Users/robertseaton/School/github_repos/CGM-learning/code'\n",
    "if bu_path not in sys.path:\n",
    "    sys.path.append(bu_path)\n",
    "from bobutils import utils as bu\n"
   ]
  },
  {
   "cell_type": "markdown",
   "metadata": {},
   "source": [
    "Let's assume each spectrum has 3 wavelengths: [400,500,600]nm. The flux and variance values for the two spectra are as follows:\n",
    "\n",
    "- Spectrum 1:\n",
    "\t- Flux: [10,20,30]\n",
    "\t- Variance: [4,4,4] (or standard deviation σ of [2,2,2])\n",
    "- Spectrum 2:\n",
    "\t- Flux: [40,50,60]\n",
    "\t- Variance: [1,1,1](or standard deviation σ of [1,1,1])\n",
    "\n",
    "- Combined Flux: [34.0,44.0,54.0]\n",
    "- Combined Variance: [0.8,0.8,0.8]"
   ]
  },
  {
   "cell_type": "code",
   "execution_count": 5,
   "metadata": {},
   "outputs": [],
   "source": [
    "wave = np.array([400,500,600])\n",
    "flux1 = np.array([10,20,30])\n",
    "sig1 = np.array([2,2,2])\n",
    "xspec1 = XSpectrum1D.from_tuple((wave, flux1, sig1)) \n",
    "\n",
    "flux2 = np.array([40,50,60])\n",
    "sig2 = np.array([1,1,1])\n",
    "xspec2 = XSpectrum1D.from_tuple((wave, flux2, sig2)) \n",
    "specs = [xspec1, xspec2]\n",
    "\n",
    "expected_combined_flux = np.array([34., 44., 54.])\n",
    "expected_combined_var = np.array([0.8, 0.8, 0.8])"
   ]
  },
  {
   "cell_type": "code",
   "execution_count": 6,
   "metadata": {},
   "outputs": [
    {
     "name": "stdout",
     "output_type": "stream",
     "text": [
      "Using combine_spectra_ivw:\n",
      " flux_tot: [34. 44. 54.]\n",
      " var_tot: [0.8 0.8 0.8]\n",
      "Using combine_spectra_ivw2:\n",
      " combined2.flux: [34. 44. 54.]\n",
      " combined2.var: [0.79999995 0.79999995 0.79999995]\n",
      "Expected:\n",
      " expected_combined_flux: [34. 44. 54.]\n",
      " expected_combined_var: [0.8 0.8 0.8]\n"
     ]
    }
   ],
   "source": [
    "flux_tot, var_tot, wave_tot = bu.combine_spectra_ivw(specs)  \n",
    "print(\"Using combine_spectra_ivw:\")\n",
    "\n",
    "print(f\" flux_tot: {flux_tot}\")\n",
    "print(f\" var_tot: {var_tot}\")\n",
    "# sig_tot = np.sqrt(var_tot)\n",
    "# print(f\" sig_tot: {sig_tot}\")\n",
    "\n",
    "combined2 = bu.combine_spectra_ivw2(specs)  \n",
    "print(\"Using combine_spectra_ivw2:\")\n",
    "print(f\" combined2.flux: {combined2.flux}\")\n",
    "var = combined2.sig**2\n",
    "print(f\" combined2.var: {var}\")\n",
    "# print(f\" combined2.sig: {combined2.sig}\")\n",
    "\n",
    "print(\"Expected:\")\n",
    "print(f\" expected_combined_flux: {expected_combined_flux}\")\n",
    "print(f\" expected_combined_var: {expected_combined_var}\")"
   ]
  },
  {
   "cell_type": "code",
   "execution_count": 10,
   "metadata": {},
   "outputs": [],
   "source": [
    "assert np.allclose(flux_tot, expected_combined_flux)\n",
    "assert np.allclose(combined2.flux, expected_combined_flux)\n",
    "assert np.allclose(var_tot, expected_combined_var)\n",
    "assert np.allclose(var, expected_combined_var)"
   ]
  },
  {
   "cell_type": "code",
   "execution_count": null,
   "metadata": {},
   "outputs": [],
   "source": []
  }
 ],
 "metadata": {
  "kernelspec": {
   "display_name": "jup_astro",
   "language": "python",
   "name": "python3"
  },
  "language_info": {
   "codemirror_mode": {
    "name": "ipython",
    "version": 3
   },
   "file_extension": ".py",
   "mimetype": "text/x-python",
   "name": "python",
   "nbconvert_exporter": "python",
   "pygments_lexer": "ipython3",
   "version": "3.9.5"
  }
 },
 "nbformat": 4,
 "nbformat_minor": 2
}
