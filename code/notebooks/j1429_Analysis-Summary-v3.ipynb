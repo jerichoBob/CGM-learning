{
 "cells": [
  {
   "attachments": {},
   "cell_type": "markdown",
   "metadata": {},
   "source": [
    "# J1429 CGM Analysis Summary v3\n",
    "#### Date: July 31, 2023"
   ]
  },
  {
   "attachments": {},
   "cell_type": "markdown",
   "metadata": {},
   "source": [
    "## Methods / Analysis Process \n",
    "1. Environmental setup (critical to having the tools behave properly)\n",
    "      ```\n",
    "      % cd ~/School/github_repos/rbcodes; conda create --name astroresearch --file requirements_simple.txt\n",
    "      % conda activate astroresearch\n",
    "      % cd ~/School/github_repos/kcwitools/; python setup.py install\n",
    "      % cd ~/School/github_repos/linetools; python setup.py develop\n",
    "      ```\n",
    "**NOTE:**  I also exported the result of all of this into a single environment file, but not sure if this will work because we have to install kcwitools and linetools\n",
    "    ```\n",
    "    conda env export -f ~/astroresearch_environment.yml\n",
    "     ```\n",
    "   With this setup we can run the extraction tool, rbspecgui and Analyze-z_2.1811.py\n",
    "3. Obtained KCWI J1429 flux/error cubes from Rongmon\n",
    "   * **NOTE:** error cube looks fishy but was told to proceed with analysis.\n",
    "   * **NOTE2:** Rongmon said he would reach out to John O'Meara and get another sample of J1429\n",
    "4. In **QFitsView**, selected sight-lines and aperture size\n",
    "5. Edited **j1429_extraction_tool_v3.py** (found in **CGM-learning/code**/) for sight-lines and aperture size from above\n",
    "   1. Continuum range set to 4864-4914\n",
    "  \n",
    "   <img src=\"../assets/QFitsView-Continuum.png\" width=\"600\">\n",
    "\n",
    "\n",
    "6. Ran **j1429_extraction_tool_v3.py**\n",
    "   * This produces a FITS 1D Spectrum file for each sightline\n",
    "7. Obtained redshift values to analyze\n",
    "   * Rongmon provided the following:\n",
    "      * z = 2.1812\n",
    "      * z = 2.2265\n",
    "      * z = 2.2995\n",
    "      * z = 2.3482\n",
    "8. Sightline Analysis \n",
    "   \n",
    "   For each sightline, we must identify the metals lines found at each redshift value\n",
    "   \n",
    "   Select Sightline #4 as it had the largest SNR. \n",
    "   1. Run **rbspecgui** to identify metal absorption lines at each of the provided redshift values. \n",
    "   2. Edit/run **z_2.1812/abstools-z_2.1812.py** <font color='green'> DONE </font>\n",
    "   3. Edit/run **z_2.2265/abstools-z_2.2265.py** <font color='green'> DONE </font>\n",
    "   4. Edit/run **z_2.2995/abstools-z_2.2995.py** <font color='green'> DONE </font>\n",
    "   5. Edit/run **z_2.3482/abstools-z_2.3482.py** <font color='green'> DONE </font>"
   ]
  },
  {
   "cell_type": "markdown",
   "metadata": {},
   "source": [
    "## Details"
   ]
  },
  {
   "attachments": {},
   "cell_type": "markdown",
   "metadata": {
    "jp-MarkdownHeadingCollapsed": true
   },
   "source": [
    "### Step 5: Running j1429_extraction_tool_v3.py\n",
    "\n",
    "Running **CGM-learning/code/j1429_extraction_tool_v3.py** produces a screen as shown below\n",
    "\n",
    "\n",
    "<img src=\"../assets/12-sightlines-issues.png\" width=\"700\">\n",
    "\n",
    "As the above figure indicates, some of the sightlines have a poor SNR, and some indicate that the variance \"signal\" is stronger than the flux! To address these issues, fewer sightlines were selected and the aperture size was increased to improve the SNR.\n",
    "\n",
    "The aperture size for the sightlines on the main arc is 3 pixels x 3 pixels, but for the individual \"flares\" opposite the main arc are 5x5, and each sightline is labeled numerically and its associated specturm, along with the x,y coordinates and the Signal-to-noise ratio (SNR). \n",
    "\n",
    "In the spectrum, the red color corresponds to the flux, and the variance is show in gray. \n",
    "\n",
    "The modified continuum was taken to be between 4864-4914 to achieve higher SNR.\n",
    "\n",
    "<img src=\"../assets/8-sightlines-better.png\" width=\"10000\">\n",
    "\n",
    "\n",
    "**j1429_extraction_tool_v3.py** also outputs a 1D FITS Spectrum for each of the 8 sightlines.\n"
   ]
  },
  {
   "attachments": {},
   "cell_type": "markdown",
   "metadata": {},
   "source": [
    "### 7. Run **rbspecgui** to identify metal absorption lines at each redshift. \n",
    "\n",
    "Ran rbspecgui on line #4 because it had the highest SNR (35.115)\n",
    "```shell\n",
    "cd ~/School/github_repos/CGM-learning/code/analysis/j1429/4_1d_spectra_35.24-7x7-4864-4914\n",
    "rbspecgui 4_1d_spectra_35.39-3x3-4864-4914.fits\n",
    "```\n",
    "When doing the metal line identification, it seemed that each redshift needed to be tweaked slightly to line up more precisely with the \"bottom trough\" of the absorber."
   ]
  },
  {
   "attachments": {},
   "cell_type": "markdown",
   "metadata": {},
   "source": [
    "### Sightline 4 - Redshift z_2.1812\n",
    "Ran **abstools-z_2.1812.py** located in ~/School/github_repos/CGM-learning/code/analysis/j1429/4_1d_spectra_35.39-3x3-4864-4914/z_2.1812\n",
    "\n",
    "<img src=\"../analysis/j1429/4_1d_spectra_35.39-3x3-4864-4914/z_2.1812/image1.png\" width=\"600\">\n",
    "<img src=\"../analysis/j1429/4_1d_spectra_35.39-3x3-4864-4914/z_2.1812/image2.png\" width=\"600\">\n",
    "<img src=\"../analysis/j1429/4_1d_spectra_35.39-3x3-4864-4914/z_2.1812/image3.png\" width=\"600\">\n",
    "<img src=\"../analysis/j1429/4_1d_spectra_35.39-3x3-4864-4914/z_2.1812/image4.png\" width=\"600\">\n",
    "\n",
    "[Spectrum_Analysis_z_2.1812_Ions1.pdf](../analysis/j1429/4_1d_spectra_35.39-3x3-4864-4914/z_2.1812/Spectrum_Analysis_z_2.1812_Ions1.pdf) -- THIS HAS ERRORS IN IT -- NEED TO RERUN\n",
    "\n",
    "[Spectrum_Analysis_z_2.1812_Ions2.pdf](../analysis/j1429/4_1d_spectra_35.39-3x3-4864-4914/z_2.1812/Spectrum_Analysis_z_2.1812_Ions2.pdf)"
   ]
  },
  {
   "attachments": {},
   "cell_type": "markdown",
   "metadata": {},
   "source": [
    "### Sightline 4 - Redshift z=2.2265\n",
    "Ran **abstools-z_2.2265.py** located in ~/School/github_repos/CGM-learning/code/analysis/j1429/4_1d_spectra_35.39-3x3-4864-4914/z_2.2265\n",
    "\n",
    "<img src=\"../analysis/j1429/4_1d_spectra_35.39-3x3-4864-4914/z_2.2265/image1.png\" width=\"600\">\n",
    "<img src=\"../analysis/j1429/4_1d_spectra_35.39-3x3-4864-4914/z_2.2265/image2.png\" width=\"600\">\n",
    "<img src=\"../analysis/j1429/4_1d_spectra_35.39-3x3-4864-4914/z_2.2265/image3.png\" width=\"600\">\n",
    "<img src=\"../analysis/j1429/4_1d_spectra_35.39-3x3-4864-4914/z_2.2265/image4.png\" width=\"600\">\n",
    "<img src=\"../analysis/j1429/4_1d_spectra_35.39-3x3-4864-4914/z_2.2265/image5.png\" width=\"600\">\n",
    "\n",
    "[Spectrum_Analysis_z_2.2265_Ions1.pdf](../analysis/j1429/4_1d_spectra_35.39-3x3-4864-4914/z_2.2265/Spectrum_Analysis_z_2.2265_Ions1.pdf)\n",
    "\n",
    "[Spectrum_Analysis_z_2.2265_Ions2.pdf](../analysis/j1429/4_1d_spectra_35.39-3x3-4864-4914/z_2.2265/Spectrum_Analysis_z_2.2265_Ions2.pdf)"
   ]
  },
  {
   "attachments": {},
   "cell_type": "markdown",
   "metadata": {},
   "source": [
    "### Sightline 4 - Redshift z=2.2995\n",
    "Ran **abstools-z_2.2995.py** located in ~/School/github_repos/CGM-learning/code/analysis/j1429/4_1d_spectra_35.39-3x3-4864-4914/z_2.2995\n",
    "\n",
    "<img src=\"../analysis/j1429/4_1d_spectra_35.39-3x3-4864-4914/z_2.2995/image1.png\" width=\"600\">\n",
    "<img src=\"../analysis/j1429/4_1d_spectra_35.39-3x3-4864-4914/z_2.2995/image2.png\" width=\"600\">\n",
    "<img src=\"../analysis/j1429/4_1d_spectra_35.39-3x3-4864-4914/z_2.2995/image3.png\" width=\"600\">\n",
    "<img src=\"../analysis/j1429/4_1d_spectra_35.39-3x3-4864-4914/z_2.2995/image4.png\" width=\"600\">\n",
    "<img src=\"../analysis/j1429/4_1d_spectra_35.39-3x3-4864-4914/z_2.2995/image5.png\" width=\"600\">\n",
    "<img src=\"../analysis/j1429/4_1d_spectra_35.39-3x3-4864-4914/z_2.2995/image1.png\" width=\"600\">\n",
    "\n",
    "\n",
    "[Spectrum_Analysis_z_2.2995_Ions1.pdf](../analysis/j1429/4_1d_spectra_35.39-3x3-4864-4914/z_2.2995/Spectrum_Analysis_z_2.2995_Ions1.pdf)\n",
    "\n",
    "[Spectrum_Analysis_z_2.2995_Ions2.pdf](../analysis/j1429/4_1d_spectra_35.39-3x3-4864-4914/z_2.2995/Spectrum_Analysis_z_2.2995_Ions2.pdf)\n",
    "\n"
   ]
  },
  {
   "attachments": {},
   "cell_type": "markdown",
   "metadata": {},
   "source": [
    "### Sightline 4 - Redshift z=2.3482\n",
    "Ran **abstools-z_2.3482.py** located in ~/School/github_repos/CGM-learning/code/analysis/j1429/4_1d_spectra_35.39-3x3-4864-4914/z_2.3482\n",
    "\n",
    "<img src=\"../analysis/j1429/4_1d_spectra_35.39-3x3-4864-4914/z_2.3482/image1.png\" width=\"600\">\n",
    "<img src=\"../analysis/j1429/4_1d_spectra_35.39-3x3-4864-4914/z_2.3482/image2.png\" width=\"600\">\n",
    "<img src=\"../analysis/j1429/4_1d_spectra_35.39-3x3-4864-4914/z_2.3482/image3.png\" width=\"600\">\n",
    "<img src=\"../analysis/j1429/4_1d_spectra_35.39-3x3-4864-4914/z_2.3482/image4.png\" width=\"600\">\n",
    "<img src=\"../analysis/j1429/4_1d_spectra_35.39-3x3-4864-4914/z_2.3482/image5.png\" width=\"600\">\n",
    "<img src=\"../analysis/j1429/4_1d_spectra_35.39-3x3-4864-4914/z_2.3482/image1.png\" width=\"600\">\n",
    "\n",
    "\n",
    "[Spectrum_Analysis_z_2.3482_Ions1.pdf](../analysis/j1429/4_1d_spectra_35.39-3x3-4864-4914/z_2.3482/Spectrum_Analysis_z_2.3482_Ions1.pdf)\n",
    "\n",
    "[Spectrum_Analysis_z_2.3482_Ions2.pdf](../analysis/j1429/4_1d_spectra_35.39-3x3-4864-4914/z_2.3482/Spectrum_Analysis_z_2.3482_Ions2.pdf)\n",
    "\n"
   ]
  },
  {
   "cell_type": "markdown",
   "metadata": {},
   "source": [
    "## Sightline #4 Summary\n",
    "\n",
    "| z=2.1812 | z=2.2238 | z=2.2995 | z=2.3482|\n",
    "|----------------------------------|--------|--------|-------|\n",
    "| Fe_II [ 1144 ] | | |\n",
    "| Si_II [ 1190, 1193 ] | | |\n",
    "| | | | N_I [ 1200 ] |\n",
    "| Si_III [ 1206 ] | | Si_III [ 1206 ] \n",
    "| | D_I [ 1215 ] |D_I [ 1215 ] | D_I [ 1215 ] |\n",
    "| | H_I [ 1215 ] | H_I [ 1215 ] | H_I [ 1215 ] |\n",
    "| N_V [ 1238, 1242 ] | N_V [ 1242 ] | N_V [ 1238, 1242 ] |\n",
    "| | | Si_II [ 1260 ] |\n",
    "| | Si_II [ 1264 ] | | Si_II [ 1264 ] | \n",
    "| | O_I [ 1302 ] | |\n",
    "| | Si_II [ 1304 ] | | Si_II [ 1304 ] |\n",
    "| Si_II [ 1526 ] | Si_II [ 1526 ] | |\n",
    "| C_IV [ 1548, 1550 ] | C_IV [ 1548, 1550 ] | C_IV [ 1548, 1550 ] |\n",
    "| Fe_II [ 1608 ] | |\n",
    "| Al_II [ 1670 ] | |"
   ]
  },
  {
   "cell_type": "markdown",
   "metadata": {},
   "source": [
    "## Sightline #7\n",
    "\n",
    "Ran rbspecgui on line #7 next because it was on the contra-arc side so it could possibly tell us something different ( or at least would be nice to compare against)\n",
    "\n",
    "```shell\n",
    "cd ~/School/github_repos/CGM-learning/code/analysis/j1429/7_1d_spectra_35.24-7x7-4864-4914\n",
    "rbspecgui 7_1d_spectra_35.39-3x3-4864-4914.fits\n",
    "```\n"
   ]
  },
  {
   "cell_type": "markdown",
   "metadata": {},
   "source": [
    "## Process Improvements\n",
    "1. Learn how to create and save linelists (populate LineList_Identified.txt) rbspecgui!! **<font color='green'> DONE </font>** <font color='blue'>\n",
    "   * in rbspecgui, input redshift value plot a set of lines\n",
    "   * identify candidate absorbers (write in spreadsheet)\n",
    "   * hit 'v' to switch to stackplot view\n",
    "   * hover over each candidate and hit 'w' to toggle status to 'detection'\n",
    "   * once done, exit from the stackplot view with Shift-S\n",
    "   * when all absorbers at all redshifts have identified, hit \"Save\" to save out the list</font>\n",
    "3. Updated my **abstool** so that it can read in **LineList_Identified.txt** containing the absorbers at a specific redshift (or maybe a combined file containing absorbers vs redshift) as well as the redshift you wish to perform the analysis. This way I could keep the abstool generic instead of creating a separate tool for each sightline-redshift-linelist.\n",
    "4. Update my **abstool** to read a pickle file, if provided and do the needful\n",
    "    ```python\n",
    "    import pickle\n",
    "    pfile='Spectrum_Analysis_z_0.017.p'\n",
    "    with open(pfile,'rb') as pklfile:\n",
    "        absys=pickle.load(pklfile)\n",
    "\n",
    "    #Run the Master GUI\n",
    "    from GUIs.abstools import Metal_Plot as M   \n",
    "    M.Transitions(absys)\n",
    "    ```\n"
   ]
  },
  {
   "cell_type": "markdown",
   "metadata": {},
   "source": []
  }
 ],
 "metadata": {
  "kernelspec": {
   "display_name": "Python 3 (ipykernel)",
   "language": "python",
   "name": "python3"
  },
  "language_info": {
   "codemirror_mode": {
    "name": "ipython",
    "version": 3
   },
   "file_extension": ".py",
   "mimetype": "text/x-python",
   "name": "python",
   "nbconvert_exporter": "python",
   "pygments_lexer": "ipython3",
   "version": "3.9.5"
  }
 },
 "nbformat": 4,
 "nbformat_minor": 4
}
