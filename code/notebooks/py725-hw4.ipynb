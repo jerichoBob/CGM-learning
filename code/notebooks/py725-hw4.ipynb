{
 "cells": [
  {
   "cell_type": "code",
   "execution_count": 1,
   "metadata": {},
   "outputs": [],
   "source": [
    "import random as rnd\n",
    "import numpy as np\n",
    "import matplotlib.pyplot as plt \n",
    "from scipy.stats import chisquare, gmean, gstd"
   ]
  },
  {
   "cell_type": "code",
   "execution_count": 2,
   "metadata": {},
   "outputs": [],
   "source": [
    "class my_random_class():\n",
    "  def __init__(self, a=2**18+1, c=7, m = 2**32):\n",
    "    #-----full spectra properties---------#\n",
    "    self.c = c\n",
    "    self.a = a\n",
    "    self.m = m\n",
    "\n",
    "  def seed(self, val):\n",
    "    self.r = val\n",
    "\n",
    "  def random(self):\n",
    "    r = (self.a * self.r +self.c) % self.m\n",
    "    self.r = r\n",
    "    return r"
   ]
  },
  {
   "cell_type": "code",
   "execution_count": 3,
   "metadata": {},
   "outputs": [],
   "source": [
    "def chi_squared(test_bins):\n",
    "    \"\"\" The Chi-Squared (equidistant) function from the problem statement. \"\"\"\n",
    "    n = len(test_bins)\n",
    "    N = 0\n",
    "    chi_squared_reduced = 0\n",
    "\n",
    "    for i in range(len(test_bins)):\n",
    "        N += test_bins[i]\n",
    "\n",
    "    for i in range(len(test_bins)):\n",
    "        chi_squared_reduced += (test_bins[i]-(N/n))**2\n",
    "\n",
    "    chi_squared = (n/N)*chi_squared_reduced\n",
    "    return chi_squared"
   ]
  },
  {
   "cell_type": "code",
   "execution_count": 9,
   "metadata": {},
   "outputs": [],
   "source": [
    "def test_loop(label, rnd_func, chi_sq_samples=100, n=10, N=10000, m=2**32, needs_normalization=True):\n",
    "    \"\"\" \n",
    "    Generate 100 chi-squared values and return the mean and standard deviation.\n",
    "    Chi-squared values are computed...\n",
    "    \"\"\"\n",
    "    # print(\"- \" * 40)\n",
    "    # print(f\"Testing {label} RNG...\")\n",
    "\n",
    "    chisq_vals = []\n",
    "    chisq_scipy_vals = []\n",
    "    for chi_ndx in range(chi_sq_samples):\n",
    "        random_vals = [rnd_func.random() for i in range(N)]\n",
    "        if needs_normalization: random_vals = np.array(random_vals) / m    # normalize the vals1 array [0,1)\n",
    "        # print(f\"{label} random values: {random_vals[:5]}\")\n",
    "\n",
    "        # bin the normalized random values\n",
    "        hist, hist_bins = np.histogram(random_vals, bins=n, range=(0,1))\n",
    "        # print(f\"{label} histogram: {hist}\")\n",
    "\n",
    "        # compute the chi-squared statistic for each RNG\n",
    "        chi_sq = chi_squared(hist); chi_sq_scipy = chisquare(hist) # compare to scipy\n",
    "        # print(f\"{label} chi_sq: {chi_sq} (scipy: {chi_sq_scipy})\")\n",
    "        chisq_vals.append(chi_sq)\n",
    "        chisq_scipy_vals.append(chi_sq_scipy)\n",
    "    \n",
    "    # compute the mean and standard deviation of the chi-squared values\n",
    "    chisq_mean = gmean(chisq_vals)\n",
    "    chisq_std = gstd(chisq_vals)\n",
    "    chisq_scipy_mean = gmean(chisq_scipy_vals)[0]\n",
    "    chisq_scipy_std = gstd(chisq_scipy_vals)[0]\n",
    "    print(f\"{label} chi_sq mean: {chisq_mean}, std: {chisq_std} (scipy: {chisq_scipy_mean}, {chisq_scipy_std})\")\n",
    "\n",
    "    return chisq_mean, chisq_std\n"
   ]
  },
  {
   "cell_type": "code",
   "execution_count": 11,
   "metadata": {},
   "outputs": [
    {
     "name": "stdout",
     "output_type": "stream",
     "text": [
      "- - - - - - - - - - - - - - - - - - - - - - - - - - - - - - - - - - - - - - - - \n",
      "Results with n = 10\n",
      "rnd_a chi_sq mean: 6.304125714175964, std: 1.9039521800926407 (scipy: 6.304125714175963, 1.9039521800926404)\n",
      "rnd_a mean: 6.304125714175964 (std: 1.9039521800926407)\n",
      "rnd_b chi_sq mean: 7.912732724025049, std: 1.6274476761094778 (scipy: 7.912732724025049, 1.6274476761094778)\n",
      "rnd_b mean: 7.912732724025049 (std: 1.6274476761094778)\n",
      "rnd_c chi_sq mean: 8.04892399053811, std: 1.5294356715664328 (scipy: 8.048923990538114, 1.5294356715664328)\n",
      "rnd_c mean: 8.04892399053811 (std: 1.5294356715664328)\n",
      "- - - - - - - - - - - - - - - - - - - - - - - - - - - - - - - - - - - - - - - - \n",
      "Results with n = 100\n",
      "rnd_a chi_sq mean: 63.287572897357705, std: 1.5997153565338305 (scipy: 63.28757289735765, 1.599715356533831)\n",
      "rnd_a mean: 63.287572897357705,  std: 1.5997153565338305\n",
      "rnd_b chi_sq mean: 98.7657467693906, std: 1.1664593970135526 (scipy: 98.7657467693905, 1.1664593970135524)\n",
      "rnd_b mean: 98.7657467693906,  std: 1.1664593970135526\n",
      "rnd_c chi_sq mean: 97.07229488713804, std: 1.139838563024806 (scipy: 97.07229488713787, 1.139838563024806)\n",
      "rnd_c mean: 97.07229488713804,  std: 1.139838563024806\n"
     ]
    }
   ],
   "source": [
    "# implement 3 different RNGs (f_a, f_b, f_c)\n",
    "rnd_a = my_random_class(a=2**18+1, c=7)\n",
    "rnd_a.seed(314159)\n",
    "rnd_b = my_random_class(a=1812433253, c=7)\n",
    "rnd_b.seed(314159)\n",
    "rnd_c = rnd # python's built-in RNG\n",
    "rnd_c.seed(314159)\n",
    "\n",
    "m = 2**32\n",
    "N = 10000\n",
    "n = 10\n",
    "\n",
    "print(\"- \" * 40)\n",
    "print(f\"Results with n = {n}\")\n",
    "\n",
    "mean, stddev = test_loop(\"rnd_a\", rnd_a, chi_sq_samples=100, n=n, N=N, m=m)\n",
    "print(f\"rnd_a mean: {mean} (std: {stddev})\")\n",
    "\n",
    "mean, stddev = test_loop(\"rnd_b\", rnd_b, chi_sq_samples=100, n=n, N=N, m=m)\n",
    "print(f\"rnd_b mean: {mean} (std: {stddev})\")\n",
    "\n",
    "mean, stddev = test_loop(\"rnd_c\", rnd_c, chi_sq_samples=100, n=n, N=N, m=m, needs_normalization=False)\n",
    "print(f\"rnd_c mean: {mean} (std: {stddev})\")\n",
    "\n",
    "n = 100\n",
    "print(\"- \" * 40)\n",
    "print(f\"Results with n = {n}\")\n",
    "\n",
    "mean, stddev = test_loop(\"rnd_a\", rnd_a, chi_sq_samples=100, n=n, N=N, m=m)\n",
    "print(f\"rnd_a mean: {mean},  std: {stddev}\")\n",
    "\n",
    "mean, stddev = test_loop(\"rnd_b\", rnd_b, chi_sq_samples=100, n=n, N=N, m=m)\n",
    "print(f\"rnd_b mean: {mean},  std: {stddev}\")\n",
    "\n",
    "mean, stddev = test_loop(\"rnd_c\", rnd_c, chi_sq_samples=100, n=n, N=N, m=m, needs_normalization=False)\n",
    "print(f\"rnd_c mean: {mean},  std: {stddev}\")\n",
    "\n"
   ]
  },
  {
   "cell_type": "code",
   "execution_count": null,
   "metadata": {},
   "outputs": [],
   "source": []
  }
 ],
 "metadata": {
  "kernelspec": {
   "display_name": "jup_astro",
   "language": "python",
   "name": "python3"
  },
  "language_info": {
   "codemirror_mode": {
    "name": "ipython",
    "version": 3
   },
   "file_extension": ".py",
   "mimetype": "text/x-python",
   "name": "python",
   "nbconvert_exporter": "python",
   "pygments_lexer": "ipython3",
   "version": "3.9.5"
  },
  "orig_nbformat": 4
 },
 "nbformat": 4,
 "nbformat_minor": 2
}
