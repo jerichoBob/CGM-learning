{
 "cells": [
  {
   "cell_type": "code",
   "execution_count": 45,
   "id": "b133847c-f326-4c5d-a863-7a3f06268ee3",
   "metadata": {},
   "outputs": [],
   "source": [
    "import numpy as np\n",
    "\n",
    "def create_circular_mask(r):\n",
    "    n = 2*r + 1  # size of the output array\n",
    "    center = r  # center of the circular mask\n",
    "\n",
    "    # create a n x n array filled with the Euclidean distance from the center\n",
    "    y, x = np.ogrid[-center:n-center, -center:n-center]\n",
    "    mask = np.sqrt(x**2 + y**2)\n",
    "\n",
    "    # normalize the mask to have values between 0 and 1\n",
    "    mask = 1 - mask / (r+0.75)\n",
    "    mask[mask < 0] = 0\n",
    "\n",
    "    return mask"
   ]
  },
  {
   "cell_type": "code",
   "execution_count": 46,
   "id": "7b6bf880-36c5-4cbb-bdf8-7a0e525af5c9",
   "metadata": {},
   "outputs": [
    {
     "data": {
      "image/png": "[encoded data removed]",
      "text/plain": [
       "<Figure size 640x480 with 1 Axes>"
      ]
     },
     "metadata": {},
     "output_type": "display_data"
    }
   ],
   "source": [
    "import matplotlib.pyplot as plt\n",
    "\n",
    "# Create a mask with radius 10\n",
    "mask = create_circular_mask(1)\n",
    "\n",
    "# Display the mask\n",
    "plt.imshow(mask, cmap='gray')\n",
    "plt.show()\n"
   ]
  },
  {
   "cell_type": "code",
   "execution_count": 47,
   "id": "bef64542-0529-4f20-a4d4-a3f6d11016f1",
   "metadata": {},
   "outputs": [
    {
     "data": {
      "text/plain": [
       "array([[0.19187796, 0.42857143, 0.19187796],\n",
       "       [0.42857143, 1.        , 0.42857143],\n",
       "       [0.19187796, 0.42857143, 0.19187796]])"
      ]
     },
     "execution_count": 47,
     "metadata": {},
     "output_type": "execute_result"
    }
   ],
   "source": [
    "mask"
   ]
  },
  {
   "cell_type": "code",
   "execution_count": 48,
   "id": "d0cd1cf5-e463-40fc-a2d4-06c8d0311f64",
   "metadata": {},
   "outputs": [
    {
     "data": {
      "text/plain": [
       "array([[False, False, False],\n",
       "       [False, False, False],\n",
       "       [False, False, False]])"
      ]
     },
     "execution_count": 48,
     "metadata": {},
     "output_type": "execute_result"
    }
   ],
   "source": [
    "mask < 0"
   ]
  },
  {
   "cell_type": "code",
   "execution_count": null,
   "id": "a238088f-2911-4e5b-8d27-1f13c7721a22",
   "metadata": {},
   "outputs": [],
   "source": []
  }
 ],
 "metadata": {
  "kernelspec": {
   "display_name": "Python 3 (ipykernel)",
   "language": "python",
   "name": "python3"
  },
  "language_info": {
   "codemirror_mode": {
    "name": "ipython",
    "version": 3
   },
   "file_extension": ".py",
   "mimetype": "text/x-python",
   "name": "python",
   "nbconvert_exporter": "python",
   "pygments_lexer": "ipython3",
   "version": "3.11.2"
  }
 },
 "nbformat": 4,
 "nbformat_minor": 5
}
