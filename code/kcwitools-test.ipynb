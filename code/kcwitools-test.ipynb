{
 "cells": [
  {
   "cell_type": "code",
   "execution_count": 4,
   "id": "61e879fb-81b6-4a13-abed-8184bc38ba61",
   "metadata": {},
   "outputs": [],
   "source": [
    "# kcwitools test"
   ]
  },
  {
   "cell_type": "code",
   "execution_count": 5,
   "id": "aad3cfea-52fb-43c6-9f9f-37c00dcc2c6d",
   "metadata": {
    "tags": []
   },
   "outputs": [],
   "source": [
    "import os\n",
    "import sys\n",
    "# anaconda_site_packages = '/Users/robertseaton/anaconda3/envs/env_research/lib/python3.11/site-packages'\n",
    "# sys.path.insert(0, os.path.abspath(anaconda_site_packages+'astropy-5.2.2-py3.11-macosx-10.9-x86_64.egg/astropy'))\n",
    "\n",
    "# print(\"sys.path: \", sys.path)"
   ]
  },
  {
   "cell_type": "code",
   "execution_count": 6,
   "id": "46fe9be5-9d4e-47ae-9614-fe64effb054c",
   "metadata": {
    "tags": []
   },
   "outputs": [
    {
     "name": "stdout",
     "output_type": "stream",
     "text": [
      "/Users/robertseaton/Desktop/Physics-NCState/---Research/CGM-learning/code\n",
      "/Users/robertseaton/School/github_repos/rbcodes\n",
      "\n",
      "/Users/robertseaton/anaconda3/envs/env_research/lib/python3.11/site-packages\n",
      "/Users/robertseaton/anaconda3/envs/env_research/lib/python311.zip\n",
      "/Users/robertseaton/anaconda3/envs/env_research/lib/python3.11\n",
      "/Users/robertseaton/anaconda3/envs/env_research/lib/python3.11/lib-dynload\n",
      "/Users/robertseaton/School/github_repos/linetools\n",
      "/Users/robertseaton/anaconda3/envs/env_research/lib/python3.11/site-packages/QtPy-2.3.0-py3.11.egg\n",
      "/Users/robertseaton/anaconda3/envs/env_research/lib/python3.11/site-packages/astropy-5.2.2-py3.11-macosx-10.9-x86_64.egg\n",
      "/Users/robertseaton/anaconda3/envs/env_research/lib/python3.11/site-packages/fonttools-4.39.3-py3.11.egg\n",
      "/Users/robertseaton/School/github_repos/kcwitools\n"
     ]
    }
   ],
   "source": [
    "for path in sys.path:\n",
    "    print(path);\n",
    "    if path == \"/Users/robertseaton/anaconda3/envs/env_research/lib/python3.11/site-packagesastropy-5.2.2-py3.11-macosx-10.9-x86_64.egg/astropy\":\n",
    "        sys.path.remove(path);"
   ]
  },
  {
   "cell_type": "code",
   "execution_count": 7,
   "id": "b0ee1987-66c5-4ec2-87c9-ce4e0f31b322",
   "metadata": {},
   "outputs": [
    {
     "name": "stdout",
     "output_type": "stream",
     "text": [
      "Data filename:  /Users/robertseaton/Desktop/Physics-NCState/---Research/FITS data/J1429/J1429_rb_flux.fits\n"
     ]
    }
   ],
   "source": [
    "from astropy.io import fits, ascii\n",
    "import kcwitools.io as kio\n",
    "import kcwitools.utils as ku\n",
    "\n",
    "base_path = \"/Users/robertseaton/Desktop/Physics-NCState/---Research/FITS data/J1429\"\n",
    "data_filename = base_path+\"/J1429_rb_flux.fits\";\n",
    "print(\"Data filename: \", data_filename);"
   ]
  },
  {
   "cell_type": "code",
   "execution_count": null,
   "id": "6a9318d5-4bf2-4a52-8155-c92f6346e5bb",
   "metadata": {},
   "outputs": [],
   "source": []
  }
 ],
 "metadata": {
  "kernelspec": {
   "display_name": "Python 3 (ipykernel)",
   "language": "python",
   "name": "python3"
  },
  "language_info": {
   "codemirror_mode": {
    "name": "ipython",
    "version": 3
   },
   "file_extension": ".py",
   "mimetype": "text/x-python",
   "name": "python",
   "nbconvert_exporter": "python",
   "pygments_lexer": "ipython3",
   "version": "3.11.2"
  }
 },
 "nbformat": 4,
 "nbformat_minor": 5
}
