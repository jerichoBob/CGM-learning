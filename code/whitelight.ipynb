{
 "cells": [
  {
   "cell_type": "markdown",
   "id": "f90fe8f1-2a1a-479b-bc2f-35766f4b19f6",
   "metadata": {},
   "source": [
    "# Methods\n",
    "Narrow-band extraction of Lyman alpha emission at 4 "
   ]
  },
  {
   "cell_type": "code",
   "execution_count": 3,
   "id": "1f2d73af-c0b7-4b81-b2cf-93d1b210d15c",
   "metadata": {},
   "outputs": [],
   "source": [
    "import kcwitools.io as kio\n",
    "import kcwitools.utils as ku\n",
    "from astropy.io import fits, ascii\n",
    "import numpy as np\n",
    "import matplotlib.pyplot as plt\n",
    "from kcwitools.image import build_whitelight\n",
    "from matplotlib.widgets import Slider, Button, TextBox, RangeSlider\n",
    "\n",
    "f=fits.open(\"/Users/robertseaton/Desktop/Physics-NCState/---Research/FITS data/J1429/SGAS1429+1202.fits\")\n",
    "\n",
    "hdr=f[0].header\n",
    "data=f[0].data\n",
    "wave=ku.build_wave(hdr)\n",
    "wl_image=build_whitelight(hdr, data)"
   ]
  },
  {
   "cell_type": "code",
   "execution_count": 4,
   "id": "d9eff1f0-0849-4737-8f91-bebcaae226df",
   "metadata": {},
   "outputs": [],
   "source": [
    "# %matplotlib"
   ]
  },
  {
   "cell_type": "code",
   "execution_count": 5,
   "id": "7445dc37-f36c-44e5-8449-167161bfb60c",
   "metadata": {},
   "outputs": [
    {
     "name": "stdout",
     "output_type": "stream",
     "text": [
      "Filename: /Users/robertseaton/Desktop/Physics-NCState/---Research/FITS data/J1429/SGAS1429+1202.fits\n",
      "No.    Name      Ver    Type      Cards   Dimensions   Format\n",
      "  0  PRIMARY       1 PrimaryHDU      22   (55, 64, 2000)   float64   \n"
     ]
    }
   ],
   "source": [
    "f.info()"
   ]
  },
  {
   "cell_type": "code",
   "execution_count": 6,
   "id": "3a232879-e5cc-4cd0-9dac-d8054f4d82e7",
   "metadata": {},
   "outputs": [
    {
     "data": {
      "text/plain": [
       "array([3502.00167624, 3503.00193315, 3504.00219007, ..., 5499.52757384,\n",
       "       5500.52784093, 5501.52810801])"
      ]
     },
     "execution_count": 6,
     "metadata": {},
     "output_type": "execute_result"
    }
   ],
   "source": [
    "wave"
   ]
  },
  {
   "cell_type": "code",
   "execution_count": 7,
   "id": "e2904227-ab70-447d-a42b-a9afcf49bc7d",
   "metadata": {},
   "outputs": [
    {
     "data": {
      "text/plain": [
       "2000"
      ]
     },
     "execution_count": 7,
     "metadata": {},
     "output_type": "execute_result"
    }
   ],
   "source": [
    "wave.size"
   ]
  },
  {
   "cell_type": "code",
   "execution_count": 8,
   "id": "851c6a67-1d05-4a1b-9b3e-2bb2818609c7",
   "metadata": {},
   "outputs": [],
   "source": [
    "# This just draws a box centered at (x,y) and sz from that center point in the n/e/s/w directions \n",
    "def plotbox(plt, x, y, labels, align, sz, c):\n",
    "    for i in range(len(x)):\n",
    "        plt.plot(\n",
    "            [x[i]-sz, x[i]-sz, x[i]+sz, x[i]+sz, x[i]-sz], \n",
    "            [y[i]-sz, y[i]+sz, y[i]+sz, y[i]-sz, y[i]-sz], \n",
    "            '-', color=c)\n",
    "        ha_ = align[i][0]\n",
    "        va_ = align[i][1]\n",
    "        plt.text(x[i], y[i]+1.5*sz, labels[i], color=c);\n"
   ]
  },
  {
   "cell_type": "markdown",
   "id": "79c62c6f-7bba-4916-a338-9509c5e022b1",
   "metadata": {},
   "source": [
    "Show SGAS1429+1202 with callout boxes"
   ]
  },
  {
   "cell_type": "code",
   "execution_count": 12,
   "id": "dd77d1d3",
   "metadata": {},
   "outputs": [],
   "source": [
    "# Show the SGAS1429 image\n",
    "\n",
    "# %matplotlib\n",
    "x_cen = [20, 25, 39, 24];\n",
    "y_cen = [35, 36, 29, 21];\n",
    "labels = [\"1\",\"2\",\"3\",\"4\"];\n",
    "alignment = [ # [ha, va] :: ha={'left', 'center', 'right'} va={'bottom', 'baseline', 'center', 'center_baseline', 'top'}\n",
    "    ['center', 'top'],\n",
    "    ['center', 'top'],\n",
    "    ['center', 'top'],\n",
    "    ['center', 'top']\n",
    "]; \n",
    "\n",
    "# fig = plt.figure(figsize=(6,6))\n",
    "# fig, ax = plt.subplots(3, 3)\n",
    "fig = plt.figure()\n",
    "grid_size = (4,6)\n",
    "fig = plt.figure(figsize=(14,8))\n",
    "\n",
    "ax0 = plt.subplot2grid(grid_size, (1, 0), colspan=2, rowspan=2)\n",
    "ax = [];\n",
    "ax.append(plt.subplot2grid(grid_size, (0, 2), colspan=4))\n",
    "ax.append(plt.subplot2grid(grid_size, (1, 2), colspan=4))\n",
    "ax.append(plt.subplot2grid(grid_size, (2, 2), colspan=4))\n",
    "ax.append(plt.subplot2grid(grid_size, (3, 2), colspan=4))\n",
    "# ax.append(plt.subplot2grid(grid_size, (4, 2), colspan=4))\n",
    "\n",
    "# source wavelength range\n",
    "slower_val = 4599; # source lower bound (in angstroms)\n",
    "supper_val = 4702; # source lower bound (in angstroms)\n",
    "source_diff = supper_val - slower_val;\n",
    "\n",
    "# continuum wavelength range\n",
    "# Ahmed says that the continuum range needs to be roughly equal to the source range\n",
    "clower_val = 4115; # continuum lower bound (in angstroms)\n",
    "cupper_val = clower_val + source_diff; # continuum upper bound (in angstroms)\n",
    "\n",
    "# Create the RangeSlider\n",
    "sslider_ax = fig.add_axes([0.20, 0.1, 0.60, 0.03])\n",
    "sslider = RangeSlider(sslider_ax, \"Source Range::\", wave.min(), wave.max(), valinit=(slower_val, supper_val))\n",
    "\n",
    "# Create the Continuum Slider\n",
    "cslider_ax = fig.add_axes([0.20, 0.1, 0.60, 0.03])\n",
    "cslider = RangeSlider(sslider_ax, \"Continuum::\", wave.min(), wave.max(), valinit=(slower_val, supper_val))\n",
    "\n",
    "scolor = '#549c54';\n",
    "ccolor = '#9c5954'; \n",
    "\n",
    "slines_l = [];\n",
    "slines_u = [];\n",
    "sbounds=[];\n",
    "slines_l.append(ax[0].axvline(sslider.val[0], color='k'));\n",
    "slines_u.append(ax[0].axvline(sslider.val[1], color='k'));\n",
    "slines_l.append(ax[1].axvline(sslider.val[0], color='k'));\n",
    "slines_u.append(ax[1].axvline(sslider.val[1], color='k'));\n",
    "slines_l.append(ax[2].axvline(sslider.val[0], color='k'));\n",
    "slines_u.append(ax[2].axvline(sslider.val[1], color='k'));\n",
    "slines_l.append(ax[3].axvline(sslider.val[0], color='k'));\n",
    "slines_u.append(ax[3].axvline(sslider.val[1], color='k'));\n",
    "sbounds.append(ax[0].axvspan(sslider.val[0], sslider.val[1], facecolor=scolor)); # lower source bounds\n",
    "sbounds.append(ax[1].axvspan(sslider.val[0], sslider.val[1], facecolor=scolor)); # lower source bounds\n",
    "sbounds.append(ax[2].axvspan(sslider.val[0], sslider.val[1], facecolor=scolor)); # lower source bounds\n",
    "sbounds.append(ax[3].axvspan(sslider.val[0], sslider.val[1], facecolor=scolor)); # lower source bounds\n",
    "clines_l = [];\n",
    "clines_u = [];\n",
    "cbounds=[];\n",
    "\n",
    "# ax[j].axvspan(sslider.val[0], sslider.val[1], facecolor='#2ca02c')\n",
    "\n",
    "ax[0].tick_params(top=False, bottom=False, labeltop=False, labelbottom=False)\n",
    "ax[1].tick_params(top=False, bottom=False, labeltop=False, labelbottom=False)\n",
    "ax[2].tick_params(top=False, bottom=False, labeltop=False, labelbottom=False)\n",
    "\n",
    "# Create the Vertical lines on the histogram\n",
    "def set_xvalues(polygon, x0, x1):\n",
    "    _ndarray = polygon.get_xy()\n",
    "    _ndarray[:, 0] = [x0, x0, x1, x1, x0]\n",
    "    polygon.set_xy(_ndarray)\n",
    "    \n",
    "# print(\"lower_limit: \", upper_limit_line, \" low: \", lower)\n",
    "def update_sourceRange(val):\n",
    "    print(\"inside update_sourceRange() \");\n",
    "    print(\"   val[0]: \", val[0]);\n",
    "    print(\"   val[1]: \", val[1]);        \n",
    "    # The val passed to a callback by the RangeSlider will\n",
    "    # be a tuple of (min, max)\n",
    "\n",
    "    for j in range(4):\n",
    "        set_xvalues(sbounds[j], val[0],val[1]);\n",
    "        slines_l[j].set_xdata([val[0], val[0]])\n",
    "        slines_u[j].set_xdata([val[1], val[1]])\n",
    "\n",
    "    # Redraw the figure to ensure it updates\n",
    "    fig.canvas.draw_idle()\n",
    "\n",
    "sslider.on_changed(update_sourceRange)\n",
    "\n",
    "\n",
    "ax0.imshow(wl_image,origin=\"lower\",interpolation=\"nearest\",cmap=\"gnuplot\",vmin=0)\n",
    "plotbox(ax0, x_cen, y_cen, labels, alignment, 2, 'c')\n",
    "\n",
    "colors = ['r','g','b','y'];\n",
    "j = 0\n",
    "for j in range(4):\n",
    "    flux = []\n",
    "    for i in range(wave.size):\n",
    "        # print(\"i: \",i)\n",
    "        # print(\"wavelength: \",wave[i], \"flux: \",data[i][y][x])\n",
    "        flux.append(data[i][y_cen[j]][x_cen[j]])\n",
    "    ax[j].plot(wave, flux, '-', color='black')\n",
    "\n",
    "\n",
    "plt.subplots_adjust(left=0, bottom=0.16, right=0.979, top=0.94, wspace=0.2, hspace=0.021)\n",
    "plt.show()\n",
    "    "
   ]
  },
  {
   "cell_type": "code",
   "execution_count": 11,
   "id": "6b6f191d-dc32-4635-ae1d-1cd2665ecb43",
   "metadata": {},
   "outputs": [],
   "source": [
    "# ku.airtovac(wave)"
   ]
  },
  {
   "cell_type": "code",
   "execution_count": null,
   "id": "016ffdcb-ba0b-4ddf-926f-dbb4d90b737e",
   "metadata": {},
   "outputs": [],
   "source": []
  }
 ],
 "metadata": {
  "kernelspec": {
   "display_name": "Python 3 (ipykernel)",
   "language": "python",
   "name": "python3"
  },
  "language_info": {
   "codemirror_mode": {
    "name": "ipython",
    "version": 3
   },
   "file_extension": ".py",
   "mimetype": "text/x-python",
   "name": "python",
   "nbconvert_exporter": "python",
   "pygments_lexer": "ipython3",
   "version": "3.11.2"
  }
 },
 "nbformat": 4,
 "nbformat_minor": 5
}
